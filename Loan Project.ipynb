{
 "cells": [
  {
   "cell_type": "markdown",
   "id": "add1110d-6db8-4c4f-83c2-a383d4e89956",
   "metadata": {},
   "source": [
    "## Importing the packages"
   ]
  },
  {
   "cell_type": "code",
   "execution_count": 1,
   "id": "b64bbdbe-9982-48bb-8826-defffdc3de42",
   "metadata": {},
   "outputs": [],
   "source": [
    "import numpy as np"
   ]
  },
  {
   "cell_type": "code",
   "execution_count": 2,
   "id": "f79f6e1d-a515-4378-b9cd-b51e4dfe246a",
   "metadata": {},
   "outputs": [],
   "source": [
    "#Let's make the displayed data more viewer-friendly using the code below\n",
    "np.set_printoptions(suppress = True, linewidth = 100, precision = 2)"
   ]
  },
  {
   "cell_type": "markdown",
   "id": "56e58095-a3cd-46d5-9b26-088b32b84b03",
   "metadata": {},
   "source": [
    "Importing the Data"
   ]
  },
  {
   "cell_type": "code",
   "execution_count": 3,
   "id": "4eb622c3-5673-4924-9fbe-86c99c856bee",
   "metadata": {},
   "outputs": [
    {
     "ename": "ValueError",
     "evalue": "could not convert string 'id' to float64 at row 0, column 1.",
     "output_type": "error",
     "traceback": [
      "\u001b[1;31m---------------------------------------------------------------------------\u001b[0m",
      "\u001b[1;31mValueError\u001b[0m                                Traceback (most recent call last)",
      "\u001b[1;31mValueError\u001b[0m: could not convert string to float: 'id'",
      "\nThe above exception was the direct cause of the following exception:\n",
      "\u001b[1;31mValueError\u001b[0m                                Traceback (most recent call last)",
      "Cell \u001b[1;32mIn[3], line 2\u001b[0m\n\u001b[0;32m      1\u001b[0m \u001b[38;5;66;03m# To ascertain if there are any values let's use np.loadtxt, an error means there are missing values\u001b[39;00m\n\u001b[1;32m----> 2\u001b[0m raw_data_np \u001b[38;5;241m=\u001b[39m np\u001b[38;5;241m.\u001b[39mloadtxt(\u001b[38;5;124m\"\u001b[39m\u001b[38;5;124mloan-data.csv\u001b[39m\u001b[38;5;124m\"\u001b[39m, delimiter \u001b[38;5;241m=\u001b[39m \u001b[38;5;124m'\u001b[39m\u001b[38;5;124m;\u001b[39m\u001b[38;5;124m'\u001b[39m)\n\u001b[0;32m      3\u001b[0m raw_data_np\n",
      "File \u001b[1;32mD:\\Anaconda\\Lib\\site-packages\\numpy\\lib\\npyio.py:1373\u001b[0m, in \u001b[0;36mloadtxt\u001b[1;34m(fname, dtype, comments, delimiter, converters, skiprows, usecols, unpack, ndmin, encoding, max_rows, quotechar, like)\u001b[0m\n\u001b[0;32m   1370\u001b[0m \u001b[38;5;28;01mif\u001b[39;00m \u001b[38;5;28misinstance\u001b[39m(delimiter, \u001b[38;5;28mbytes\u001b[39m):\n\u001b[0;32m   1371\u001b[0m     delimiter \u001b[38;5;241m=\u001b[39m delimiter\u001b[38;5;241m.\u001b[39mdecode(\u001b[38;5;124m'\u001b[39m\u001b[38;5;124mlatin1\u001b[39m\u001b[38;5;124m'\u001b[39m)\n\u001b[1;32m-> 1373\u001b[0m arr \u001b[38;5;241m=\u001b[39m _read(fname, dtype\u001b[38;5;241m=\u001b[39mdtype, comment\u001b[38;5;241m=\u001b[39mcomment, delimiter\u001b[38;5;241m=\u001b[39mdelimiter,\n\u001b[0;32m   1374\u001b[0m             converters\u001b[38;5;241m=\u001b[39mconverters, skiplines\u001b[38;5;241m=\u001b[39mskiprows, usecols\u001b[38;5;241m=\u001b[39musecols,\n\u001b[0;32m   1375\u001b[0m             unpack\u001b[38;5;241m=\u001b[39munpack, ndmin\u001b[38;5;241m=\u001b[39mndmin, encoding\u001b[38;5;241m=\u001b[39mencoding,\n\u001b[0;32m   1376\u001b[0m             max_rows\u001b[38;5;241m=\u001b[39mmax_rows, quote\u001b[38;5;241m=\u001b[39mquotechar)\n\u001b[0;32m   1378\u001b[0m \u001b[38;5;28;01mreturn\u001b[39;00m arr\n",
      "File \u001b[1;32mD:\\Anaconda\\Lib\\site-packages\\numpy\\lib\\npyio.py:1016\u001b[0m, in \u001b[0;36m_read\u001b[1;34m(fname, delimiter, comment, quote, imaginary_unit, usecols, skiplines, max_rows, converters, ndmin, unpack, dtype, encoding)\u001b[0m\n\u001b[0;32m   1013\u001b[0m     data \u001b[38;5;241m=\u001b[39m _preprocess_comments(data, comments, encoding)\n\u001b[0;32m   1015\u001b[0m \u001b[38;5;28;01mif\u001b[39;00m read_dtype_via_object_chunks \u001b[38;5;129;01mis\u001b[39;00m \u001b[38;5;28;01mNone\u001b[39;00m:\n\u001b[1;32m-> 1016\u001b[0m     arr \u001b[38;5;241m=\u001b[39m _load_from_filelike(\n\u001b[0;32m   1017\u001b[0m         data, delimiter\u001b[38;5;241m=\u001b[39mdelimiter, comment\u001b[38;5;241m=\u001b[39mcomment, quote\u001b[38;5;241m=\u001b[39mquote,\n\u001b[0;32m   1018\u001b[0m         imaginary_unit\u001b[38;5;241m=\u001b[39mimaginary_unit,\n\u001b[0;32m   1019\u001b[0m         usecols\u001b[38;5;241m=\u001b[39musecols, skiplines\u001b[38;5;241m=\u001b[39mskiplines, max_rows\u001b[38;5;241m=\u001b[39mmax_rows,\n\u001b[0;32m   1020\u001b[0m         converters\u001b[38;5;241m=\u001b[39mconverters, dtype\u001b[38;5;241m=\u001b[39mdtype,\n\u001b[0;32m   1021\u001b[0m         encoding\u001b[38;5;241m=\u001b[39mencoding, filelike\u001b[38;5;241m=\u001b[39mfilelike,\n\u001b[0;32m   1022\u001b[0m         byte_converters\u001b[38;5;241m=\u001b[39mbyte_converters)\n\u001b[0;32m   1024\u001b[0m \u001b[38;5;28;01melse\u001b[39;00m:\n\u001b[0;32m   1025\u001b[0m     \u001b[38;5;66;03m# This branch reads the file into chunks of object arrays and then\u001b[39;00m\n\u001b[0;32m   1026\u001b[0m     \u001b[38;5;66;03m# casts them to the desired actual dtype.  This ensures correct\u001b[39;00m\n\u001b[0;32m   1027\u001b[0m     \u001b[38;5;66;03m# string-length and datetime-unit discovery (like `arr.astype()`).\u001b[39;00m\n\u001b[0;32m   1028\u001b[0m     \u001b[38;5;66;03m# Due to chunking, certain error reports are less clear, currently.\u001b[39;00m\n\u001b[0;32m   1029\u001b[0m     \u001b[38;5;28;01mif\u001b[39;00m filelike:\n",
      "\u001b[1;31mValueError\u001b[0m: could not convert string 'id' to float64 at row 0, column 1."
     ]
    }
   ],
   "source": [
    "# To ascertain if there are any values let's use np.loadtxt, an error means there are missing values\n",
    "raw_data_np = np.loadtxt(\"loan-data.csv\", delimiter = ';')\n",
    "raw_data_np"
   ]
  },
  {
   "cell_type": "code",
   "execution_count": 4,
   "id": "801d24e2-ec14-4f22-8ae2-a376f099dd4e",
   "metadata": {},
   "outputs": [
    {
     "data": {
      "text/plain": [
       "array([[        nan,         nan,         nan, ...,         nan,         nan,         nan],\n",
       "       [48010226.  ,         nan,    35000.  , ...,         nan,         nan,     9452.96],\n",
       "       [57693261.  ,         nan,    30000.  , ...,         nan,         nan,     4679.7 ],\n",
       "       ...,\n",
       "       [50415990.  ,         nan,    10000.  , ...,         nan,         nan,     2185.64],\n",
       "       [46154151.  ,         nan,         nan, ...,         nan,         nan,     3199.4 ],\n",
       "       [66055249.  ,         nan,    10000.  , ...,         nan,         nan,      301.9 ]])"
      ]
     },
     "execution_count": 4,
     "metadata": {},
     "output_type": "execute_result"
    }
   ],
   "source": [
    "# let's switch to np.genfromtxt since we got errors above there are missing values\n",
    "raw_data_np = np.genfromtxt(\"loan-data.csv\", delimiter = ';')\n",
    "raw_data_np"
   ]
  },
  {
   "cell_type": "code",
   "execution_count": 6,
   "id": "872710d5-d92f-4f2e-9e47-356a9c618f98",
   "metadata": {},
   "outputs": [
    {
     "data": {
      "text/plain": [
       "array([[48010226.  ,         nan,    35000.  , ...,         nan,         nan,     9452.96],\n",
       "       [57693261.  ,         nan,    30000.  , ...,         nan,         nan,     4679.7 ],\n",
       "       [59432726.  ,         nan,    15000.  , ...,         nan,         nan,     1969.83],\n",
       "       ...,\n",
       "       [50415990.  ,         nan,    10000.  , ...,         nan,         nan,     2185.64],\n",
       "       [46154151.  ,         nan,         nan, ...,         nan,         nan,     3199.4 ],\n",
       "       [66055249.  ,         nan,    10000.  , ...,         nan,         nan,      301.9 ]])"
      ]
     },
     "execution_count": 6,
     "metadata": {},
     "output_type": "execute_result"
    }
   ],
   "source": [
    "# let's use skip_header abnd autostrip because the entire first row has nan values and whitespaces that distort our columns respectively\n",
    "raw_data_np = np.genfromtxt(\"loan-data.csv\", delimiter = ';',\n",
    "                            skip_header = 1,\n",
    "                            autostrip = True)\n",
    "raw_data_np"
   ]
  },
  {
   "cell_type": "markdown",
   "id": "e9106048-cc28-44c4-b56a-e6926e2117d5",
   "metadata": {},
   "source": [
    "## Checking for incomplete data"
   ]
  },
  {
   "cell_type": "code",
   "execution_count": 8,
   "id": "b5506716-95bb-4c38-921d-99ea92703d81",
   "metadata": {},
   "outputs": [
    {
     "data": {
      "text/plain": [
       "88005"
      ]
     },
     "execution_count": 8,
     "metadata": {},
     "output_type": "execute_result"
    }
   ],
   "source": [
    "# Let dot chain the sum() with isnan() to determine the number of missing values\n",
    "np.isnan(raw_data_np).sum()"
   ]
  },
  {
   "cell_type": "code",
   "execution_count": 9,
   "id": "a3c0d893-01b8-4ee5-92a3-9da896a715c5",
   "metadata": {},
   "outputs": [
    {
     "name": "stderr",
     "output_type": "stream",
     "text": [
      "C:\\Users\\Andy\\AppData\\Local\\Temp\\ipykernel_6596\\706716192.py:5: RuntimeWarning: Mean of empty slice\n",
      "  temporary_mean = np.nanmean(raw_data_np, axis = 0)\n"
     ]
    }
   ],
   "source": [
    "# We have lots of missing values so let's take care of them. temporary_fill will be greater\n",
    "#than any values in the data set and thus serves as a filler for all missing entries.temporary_mean is the mean for each column\n",
    "\n",
    "temporary_fill = np.nanmax(raw_data_np).round(2) +1\n",
    "temporary_mean = np.nanmean(raw_data_np, axis = 0)"
   ]
  },
  {
   "cell_type": "code",
   "execution_count": 10,
   "id": "e87008a4-95f8-481d-b2cd-e74b0f6b1b1b",
   "metadata": {},
   "outputs": [
    {
     "data": {
      "text/plain": [
       "array([54015809.19,         nan,    15273.46,         nan,    15311.04,         nan,       16.62,\n",
       "            440.92,         nan,         nan,         nan,         nan,         nan,     3143.85])"
      ]
     },
     "execution_count": 10,
     "metadata": {},
     "output_type": "execute_result"
    }
   ],
   "source": [
    "# We got a warning  (RuntimeWarning: Mean of empty slice) after running the previsous code \n",
    "#because some columns consist entriely of text data hence the means are NAN.We will have to \n",
    "#split the data into numerical and nonnumerical data\n",
    "\n",
    "temporary_mean"
   ]
  },
  {
   "cell_type": "code",
   "execution_count": 11,
   "id": "0060bd81-69fa-4979-98c3-d6ae58115aca",
   "metadata": {},
   "outputs": [
    {
     "name": "stderr",
     "output_type": "stream",
     "text": [
      "C:\\Users\\Andy\\AppData\\Local\\Temp\\ipykernel_6596\\2183409543.py:1: RuntimeWarning: All-NaN slice encountered\n",
      "  temporary_stats = np.array([np.nanmin(raw_data_np, axis = 0),\n",
      "C:\\Users\\Andy\\AppData\\Local\\Temp\\ipykernel_6596\\2183409543.py:3: RuntimeWarning: All-NaN slice encountered\n",
      "  np.nanmax(raw_data_np, axis = 0)])\n"
     ]
    }
   ],
   "source": [
    "temporary_stats = np.array([np.nanmin(raw_data_np, axis = 0),\n",
    "                           temporary_mean,\n",
    "                           np.nanmax(raw_data_np, axis = 0)])"
   ]
  },
  {
   "cell_type": "code",
   "execution_count": 12,
   "id": "55fd749b-1890-4c7c-ad0b-5206fc522abc",
   "metadata": {},
   "outputs": [
    {
     "data": {
      "text/plain": [
       "array([[  373332.  ,         nan,     1000.  ,         nan,     1000.  ,         nan,        6.  ,\n",
       "              31.42,         nan,         nan,         nan,         nan,         nan,        0.  ],\n",
       "       [54015809.19,         nan,    15273.46,         nan,    15311.04,         nan,       16.62,\n",
       "             440.92,         nan,         nan,         nan,         nan,         nan,     3143.85],\n",
       "       [68616519.  ,         nan,    35000.  ,         nan,    35000.  ,         nan,       28.99,\n",
       "            1372.97,         nan,         nan,         nan,         nan,         nan,    41913.62]])"
      ]
     },
     "execution_count": 12,
     "metadata": {},
     "output_type": "execute_result"
    }
   ],
   "source": [
    "temporary_stats"
   ]
  },
  {
   "cell_type": "markdown",
   "id": "a7e4dc85-d102-4724-924b-a0f9661b33b6",
   "metadata": {},
   "source": [
    "## Splitting the Dataset"
   ]
  },
  {
   "cell_type": "code",
   "execution_count": 18,
   "id": "e3cabfd1-0477-4a9b-b12e-8854342cc517",
   "metadata": {},
   "outputs": [
    {
     "data": {
      "text/plain": [
       "array([ 1,  3,  5,  8,  9, 10, 11, 12], dtype=int64)"
      ]
     },
     "execution_count": 18,
     "metadata": {},
     "output_type": "execute_result"
    }
   ],
   "source": [
    "#We first need to know which columns contain numerical data (columns_numeric) and nonnumerical data (column_strings),we can use temporary_mean\n",
    "# and use np.argwhere to return the indices of 'nan' columns\n",
    "columns_strings = np.argwhere(np.isnan(temporary_mean) == True).squeeze()\n",
    "columns_strings"
   ]
  },
  {
   "cell_type": "code",
   "execution_count": 17,
   "id": "ab8b56a6-74db-44b4-8f02-21321f453d1d",
   "metadata": {},
   "outputs": [
    {
     "data": {
      "text/plain": [
       "array([ 0,  2,  4,  6,  7, 13], dtype=int64)"
      ]
     },
     "execution_count": 17,
     "metadata": {},
     "output_type": "execute_result"
    }
   ],
   "source": [
    "# Let's identify columns with numeric data\n",
    "columns_numeric = np.argwhere(np.isnan(temporary_mean) == False).squeeze()\n",
    "columns_numeric"
   ]
  },
  {
   "cell_type": "markdown",
   "id": "22fb31d5-919e-46e6-befa-eff2476b871c",
   "metadata": {},
   "source": [
    "## Re-importing the dataset"
   ]
  },
  {
   "cell_type": "code",
   "execution_count": 19,
   "id": "0321ad71-3d14-4717-9785-5df000633fe2",
   "metadata": {},
   "outputs": [
    {
     "data": {
      "text/plain": [
       "array([['May-15', 'Current', '36 months', ..., 'Verified',\n",
       "        'https://www.lendingclub.com/browse/loanDetail.action?loan_id=48010226', 'CA'],\n",
       "       ['', 'Current', '36 months', ..., 'Source Verified',\n",
       "        'https://www.lendingclub.com/browse/loanDetail.action?loan_id=57693261', 'NY'],\n",
       "       ['Sep-15', 'Current', '36 months', ..., 'Verified',\n",
       "        'https://www.lendingclub.com/browse/loanDetail.action?loan_id=59432726', 'PA'],\n",
       "       ...,\n",
       "       ['Jun-15', 'Current', '36 months', ..., 'Source Verified',\n",
       "        'https://www.lendingclub.com/browse/loanDetail.action?loan_id=50415990', 'CA'],\n",
       "       ['Apr-15', 'Current', '36 months', ..., 'Source Verified',\n",
       "        'https://www.lendingclub.com/browse/loanDetail.action?loan_id=46154151', 'OH'],\n",
       "       ['Dec-15', 'Current', '36 months', ..., '',\n",
       "        'https://www.lendingclub.com/browse/loanDetail.action?loan_id=66055249', 'IL']],\n",
       "      dtype='<U69')"
      ]
     },
     "execution_count": 19,
     "metadata": {},
     "output_type": "execute_result"
    }
   ],
   "source": [
    "#Let's re-import the data using the usecols parameter to split the data into two arrays (numeric and nonnumeric data)\n",
    "# rename variables appropriately\n",
    "\n",
    "loan_data_strings = np.genfromtxt(\"loan-data.csv\", delimiter = ';',\n",
    "                            skip_header = 1,\n",
    "                            autostrip = True,\n",
    "                            usecols = columns_strings,\n",
    "                            dtype = np.str_)\n",
    "loan_data_strings "
   ]
  },
  {
   "cell_type": "code",
   "execution_count": 20,
   "id": "25cf0aea-6fa0-4041-b74e-26a8082c962c",
   "metadata": {},
   "outputs": [
    {
     "data": {
      "text/plain": [
       "array([[48010226.  ,    35000.  ,    35000.  ,       13.33,     1184.86,     9452.96],\n",
       "       [57693261.  ,    30000.  ,    30000.  , 68616520.  ,      938.57,     4679.7 ],\n",
       "       [59432726.  ,    15000.  ,    15000.  , 68616520.  ,      494.86,     1969.83],\n",
       "       ...,\n",
       "       [50415990.  ,    10000.  ,    10000.  , 68616520.  , 68616520.  ,     2185.64],\n",
       "       [46154151.  , 68616520.  ,    10000.  ,       16.55,      354.3 ,     3199.4 ],\n",
       "       [66055249.  ,    10000.  ,    10000.  , 68616520.  ,      309.97,      301.9 ]])"
      ]
     },
     "execution_count": 20,
     "metadata": {},
     "output_type": "execute_result"
    }
   ],
   "source": [
    "#Follow the methodology above and copy the code and rename it to make the numerical array\n",
    "\n",
    "loan_data_numeric = np.genfromtxt(\"loan-data.csv\", delimiter = ';',\n",
    "                            skip_header = 1,\n",
    "                            autostrip = True,\n",
    "                            usecols = columns_numeric,\n",
    "                            filling_values = temporary_fill)\n",
    "loan_data_numeric"
   ]
  },
  {
   "cell_type": "markdown",
   "id": "5c204db1-da40-4c1e-86ea-66bc37c7f785",
   "metadata": {},
   "source": [
    "## The Names of the Columns"
   ]
  },
  {
   "cell_type": "code",
   "execution_count": 21,
   "id": "bb9e9e62-7013-4ede-9a4e-87047863885d",
   "metadata": {},
   "outputs": [
    {
     "data": {
      "text/plain": [
       "array(['id', 'issue_d', 'loan_amnt', 'loan_status', 'funded_amnt', 'term', 'int_rate',\n",
       "       'installment', 'grade', 'sub_grade', 'verification_status', 'url', 'addr_state',\n",
       "       'total_pymnt'], dtype='<U19')"
      ]
     },
     "execution_count": 21,
     "metadata": {},
     "output_type": "execute_result"
    }
   ],
   "source": [
    "#Let's get all the names of the columns\n",
    "header_full = np.genfromtxt(\"loan-data.csv\",\n",
    "                            delimiter = ';',\n",
    "                            skip_footer = raw_data_np.shape[0],\n",
    "                            autostrip = True,\n",
    "                            dtype = np.str_)\n",
    "header_full "
   ]
  },
  {
   "cell_type": "code",
   "execution_count": 22,
   "id": "beb55336-77ed-4c52-8589-62ba354e9705",
   "metadata": {},
   "outputs": [],
   "source": [
    "header_strings, header_numeric = header_full[columns_strings],header_full[columns_numeric]"
   ]
  },
  {
   "cell_type": "code",
   "execution_count": 23,
   "id": "cd33acec-5a4b-48de-828a-5930a2564f4d",
   "metadata": {},
   "outputs": [
    {
     "data": {
      "text/plain": [
       "array(['issue_d', 'loan_status', 'term', 'grade', 'sub_grade', 'verification_status', 'url',\n",
       "       'addr_state'], dtype='<U19')"
      ]
     },
     "execution_count": 23,
     "metadata": {},
     "output_type": "execute_result"
    }
   ],
   "source": [
    "header_strings"
   ]
  },
  {
   "cell_type": "code",
   "execution_count": 24,
   "id": "4b9075a1-8c64-4f18-91f6-e3b2a6f25a56",
   "metadata": {},
   "outputs": [
    {
     "data": {
      "text/plain": [
       "array(['id', 'loan_amnt', 'funded_amnt', 'int_rate', 'installment', 'total_pymnt'], dtype='<U19')"
      ]
     },
     "execution_count": 24,
     "metadata": {},
     "output_type": "execute_result"
    }
   ],
   "source": [
    "header_numeric"
   ]
  },
  {
   "cell_type": "markdown",
   "id": "6eaeccd4-b92d-4af2-a764-632499378241",
   "metadata": {},
   "source": [
    "## Creating Checkpoints:"
   ]
  },
  {
   "cell_type": "code",
   "execution_count": 25,
   "id": "c14726cf-c8b0-44a7-a9ea-97c7cd1707cd",
   "metadata": {},
   "outputs": [],
   "source": [
    "def checkpoint(file_name, checkpoint_header, checkpoint_data):\n",
    "    np.savez(file_name, header = checkpoint_header, data = checkpoint_data)\n",
    "    checkpoint_variable = np.load(file_name + \".npz\")\n",
    "    return(checkpoint_variable)\n",
    "    "
   ]
  },
  {
   "cell_type": "code",
   "execution_count": 26,
   "id": "2be12729-8175-4374-a70d-390ca3c0324c",
   "metadata": {},
   "outputs": [],
   "source": [
    "checkpoint_test = checkpoint(\"checkpoint-test\", header_strings, loan_data_strings)"
   ]
  },
  {
   "cell_type": "code",
   "execution_count": 27,
   "id": "24fc4e9d-4039-4a2e-9ec7-938f5dea2e34",
   "metadata": {},
   "outputs": [
    {
     "data": {
      "text/plain": [
       "array(['issue_d', 'loan_status', 'term', 'grade', 'sub_grade', 'verification_status', 'url',\n",
       "       'addr_state'], dtype='<U19')"
      ]
     },
     "execution_count": 27,
     "metadata": {},
     "output_type": "execute_result"
    }
   ],
   "source": [
    "checkpoint_test['header']"
   ]
  },
  {
   "cell_type": "code",
   "execution_count": 28,
   "id": "487963fd-daa3-4f46-85c1-a985f26cef0a",
   "metadata": {},
   "outputs": [
    {
     "data": {
      "text/plain": [
       "array([['May-15', 'Current', '36 months', ..., 'Verified',\n",
       "        'https://www.lendingclub.com/browse/loanDetail.action?loan_id=48010226', 'CA'],\n",
       "       ['', 'Current', '36 months', ..., 'Source Verified',\n",
       "        'https://www.lendingclub.com/browse/loanDetail.action?loan_id=57693261', 'NY'],\n",
       "       ['Sep-15', 'Current', '36 months', ..., 'Verified',\n",
       "        'https://www.lendingclub.com/browse/loanDetail.action?loan_id=59432726', 'PA'],\n",
       "       ...,\n",
       "       ['Jun-15', 'Current', '36 months', ..., 'Source Verified',\n",
       "        'https://www.lendingclub.com/browse/loanDetail.action?loan_id=50415990', 'CA'],\n",
       "       ['Apr-15', 'Current', '36 months', ..., 'Source Verified',\n",
       "        'https://www.lendingclub.com/browse/loanDetail.action?loan_id=46154151', 'OH'],\n",
       "       ['Dec-15', 'Current', '36 months', ..., '',\n",
       "        'https://www.lendingclub.com/browse/loanDetail.action?loan_id=66055249', 'IL']],\n",
       "      dtype='<U69')"
      ]
     },
     "execution_count": 28,
     "metadata": {},
     "output_type": "execute_result"
    }
   ],
   "source": [
    "checkpoint_test['data']"
   ]
  },
  {
   "cell_type": "code",
   "execution_count": 29,
   "id": "44594375-2b80-4293-88b8-f7f1acde5e05",
   "metadata": {},
   "outputs": [
    {
     "data": {
      "text/plain": [
       "True"
      ]
     },
     "execution_count": 29,
     "metadata": {},
     "output_type": "execute_result"
    }
   ],
   "source": [
    "np.array_equal(checkpoint_test['data'], loan_data_strings)"
   ]
  },
  {
   "cell_type": "markdown",
   "id": "917ee244-8607-4d5f-b83d-0844f3ee5ed7",
   "metadata": {},
   "source": [
    "## Manipulating String Columns"
   ]
  },
  {
   "cell_type": "code",
   "execution_count": 30,
   "id": "3bc9cfe5-bcd6-4387-933f-20476d6af717",
   "metadata": {},
   "outputs": [
    {
     "data": {
      "text/plain": [
       "array(['issue_d', 'loan_status', 'term', 'grade', 'sub_grade', 'verification_status', 'url',\n",
       "       'addr_state'], dtype='<U19')"
      ]
     },
     "execution_count": 30,
     "metadata": {},
     "output_type": "execute_result"
    }
   ],
   "source": [
    "#Let's recall the header names of columns containing only string values\n",
    "header_strings"
   ]
  },
  {
   "cell_type": "code",
   "execution_count": 31,
   "id": "26279d5e-60d3-4f28-812e-cdd6458e0d89",
   "metadata": {},
   "outputs": [],
   "source": [
    "#let's rename some columns to make it easier to know what they represent\n",
    "\n",
    "header_strings[0] = \"issue_date\""
   ]
  },
  {
   "cell_type": "code",
   "execution_count": 32,
   "id": "fe7331ee-f285-4295-8c0f-25417fafeac8",
   "metadata": {},
   "outputs": [
    {
     "data": {
      "text/plain": [
       "array([['May-15', 'Current', '36 months', ..., 'Verified',\n",
       "        'https://www.lendingclub.com/browse/loanDetail.action?loan_id=48010226', 'CA'],\n",
       "       ['', 'Current', '36 months', ..., 'Source Verified',\n",
       "        'https://www.lendingclub.com/browse/loanDetail.action?loan_id=57693261', 'NY'],\n",
       "       ['Sep-15', 'Current', '36 months', ..., 'Verified',\n",
       "        'https://www.lendingclub.com/browse/loanDetail.action?loan_id=59432726', 'PA'],\n",
       "       ...,\n",
       "       ['Jun-15', 'Current', '36 months', ..., 'Source Verified',\n",
       "        'https://www.lendingclub.com/browse/loanDetail.action?loan_id=50415990', 'CA'],\n",
       "       ['Apr-15', 'Current', '36 months', ..., 'Source Verified',\n",
       "        'https://www.lendingclub.com/browse/loanDetail.action?loan_id=46154151', 'OH'],\n",
       "       ['Dec-15', 'Current', '36 months', ..., '',\n",
       "        'https://www.lendingclub.com/browse/loanDetail.action?loan_id=66055249', 'IL']],\n",
       "      dtype='<U69')"
      ]
     },
     "execution_count": 32,
     "metadata": {},
     "output_type": "execute_result"
    }
   ],
   "source": [
    "# Let's look at the string data in its entirety\n",
    "\n",
    "loan_data_strings"
   ]
  },
  {
   "cell_type": "markdown",
   "id": "91ba0ebb-7812-411f-a94c-99b87b236893",
   "metadata": {},
   "source": [
    "## Issue Date"
   ]
  },
  {
   "cell_type": "code",
   "execution_count": 33,
   "id": "c36d5cb7-8e21-442e-a894-2c07d91e7d87",
   "metadata": {},
   "outputs": [
    {
     "data": {
      "text/plain": [
       "array(['May-15', '', 'Sep-15', ..., 'Jun-15', 'Apr-15', 'Dec-15'], dtype='<U69')"
      ]
     },
     "execution_count": 33,
     "metadata": {},
     "output_type": "execute_result"
    }
   ],
   "source": [
    "# We can manipulate the issue date data so let's look at that column\n",
    "loan_data_strings[:,0]"
   ]
  },
  {
   "cell_type": "code",
   "execution_count": 34,
   "id": "3ac44991-6ac2-4e4e-808e-d831d4d3c749",
   "metadata": {},
   "outputs": [
    {
     "data": {
      "text/plain": [
       "array(['', 'Apr-15', 'Aug-15', 'Dec-15', 'Feb-15', 'Jan-15', 'Jul-15', 'Jun-15', 'Mar-15',\n",
       "       'May-15', 'Nov-15', 'Oct-15', 'Sep-15'], dtype='<U69')"
      ]
     },
     "execution_count": 34,
     "metadata": {},
     "output_type": "execute_result"
    }
   ],
   "source": [
    "# Months are represented by the first three letters of the month.Let's confirm if this is pattern for the whole column\n",
    "np.unique(loan_data_strings[:,0])"
   ]
  },
  {
   "cell_type": "code",
   "execution_count": 35,
   "id": "84d85bde-877d-4860-b849-7ac9a2540bea",
   "metadata": {},
   "outputs": [
    {
     "data": {
      "text/plain": [
       "chararray(['May', '', 'Sep', ..., 'Jun', 'Apr', 'Dec'], dtype='<U69')"
      ]
     },
     "execution_count": 35,
     "metadata": {},
     "output_type": "execute_result"
    }
   ],
   "source": [
    "#Looks like all the data contains '-15' in common so we can strip it away without losing insghtful information\n",
    "np.chararray.strip(loan_data_strings[:,0], \"-15\")"
   ]
  },
  {
   "cell_type": "code",
   "execution_count": 37,
   "id": "7e3d243f-f92a-4af3-9f1c-54748653e5b6",
   "metadata": {},
   "outputs": [],
   "source": [
    "#Let's overwirte the data in that column since we confirmed in above cell that the '-15' has been removed for each element\n",
    "loan_data_strings[:,0] = np.chararray.strip(loan_data_strings[:,0], \"-15\")\n"
   ]
  },
  {
   "cell_type": "code",
   "execution_count": 38,
   "id": "f2aa20a1-f9d5-4b9a-a685-67c42c2d2d00",
   "metadata": {},
   "outputs": [
    {
     "data": {
      "text/plain": [
       "array(['', 'Apr', 'Aug', 'Dec', 'Feb', 'Jan', 'Jul', 'Jun', 'Mar', 'May', 'Nov', 'Oct', 'Sep'],\n",
       "      dtype='<U69')"
      ]
     },
     "execution_count": 38,
     "metadata": {},
     "output_type": "execute_result"
    }
   ],
   "source": [
    "#Let's look at the unique elements again to confrim we have removed excess data ('-15')\n",
    "np.unique(loan_data_strings[:,0])"
   ]
  },
  {
   "cell_type": "code",
   "execution_count": 42,
   "id": "6dc4ab8e-58e4-4328-8265-06c3ccec5167",
   "metadata": {},
   "outputs": [],
   "source": [
    "#In analysis it is more convenient to represent the month values as integers\n",
    "# One advatage is that this Store the data using less memory or space\n",
    "#Enables a more easy to follow order of the months\n",
    "# Let's use a 'for loop' and months 'array' to change the month strings to string 'values' first and then cast into integers later\n",
    "\n",
    "months  = np.array(['','Jan', 'Feb','Mar','Apr', 'May','Jun','Jul', 'Aug','Sep','Oct', 'Nov','Dec'])"
   ]
  },
  {
   "cell_type": "code",
   "execution_count": 43,
   "id": "6ed7f031-de54-4e16-a20f-8efc818717b1",
   "metadata": {},
   "outputs": [],
   "source": [
    "for i in range(13):\n",
    "    loan_data_strings[:,0] = np.where(loan_data_strings[:,0] == months[i],\n",
    "                                      i,\n",
    "                                     loan_data_strings[:,0])\n"
   ]
  },
  {
   "cell_type": "code",
   "execution_count": 44,
   "id": "e1b9c8e7-7152-45e0-bf10-3a95402b2a35",
   "metadata": {},
   "outputs": [
    {
     "data": {
      "text/plain": [
       "array(['0', '1', '10', '11', '12', '2', '3', '4', '5', '6', '7', '8', '9'], dtype='<U69')"
      ]
     },
     "execution_count": 44,
     "metadata": {},
     "output_type": "execute_result"
    }
   ],
   "source": [
    "#Let's confirm that there are no more str for month data\n",
    "np.unique(loan_data_strings[:,0])"
   ]
  },
  {
   "cell_type": "markdown",
   "id": "abc1bebd-5a7d-42f6-b3b0-0c58981bf68b",
   "metadata": {},
   "source": [
    "## Loan Status\n",
    "\n"
   ]
  },
  {
   "cell_type": "code",
   "execution_count": 45,
   "id": "1035da9d-dab3-4860-8fe9-3dcb9ded24dd",
   "metadata": {},
   "outputs": [
    {
     "data": {
      "text/plain": [
       "array(['issue_date', 'loan_status', 'term', 'grade', 'sub_grade', 'verification_status', 'url',\n",
       "       'addr_state'], dtype='<U19')"
      ]
     },
     "execution_count": 45,
     "metadata": {},
     "output_type": "execute_result"
    }
   ],
   "source": [
    "#Let's examine other columns to find any excess data\n",
    "header_strings"
   ]
  },
  {
   "cell_type": "code",
   "execution_count": 46,
   "id": "1b53a778-9da0-4b5b-acf4-c170b750f48c",
   "metadata": {},
   "outputs": [
    {
     "data": {
      "text/plain": [
       "array(['Current', 'Current', 'Current', ..., 'Current', 'Current', 'Current'], dtype='<U69')"
      ]
     },
     "execution_count": 46,
     "metadata": {},
     "output_type": "execute_result"
    }
   ],
   "source": [
    "loan_data_strings[:,1]"
   ]
  },
  {
   "cell_type": "code",
   "execution_count": 47,
   "id": "155b14e7-8906-4b5b-ae66-15e752847133",
   "metadata": {},
   "outputs": [
    {
     "data": {
      "text/plain": [
       "array(['', 'Charged Off', 'Current', 'Default', 'Fully Paid', 'In Grace Period', 'Issued',\n",
       "       'Late (16-30 days)', 'Late (31-120 days)'], dtype='<U69')"
      ]
     },
     "execution_count": 47,
     "metadata": {},
     "output_type": "execute_result"
    }
   ],
   "source": [
    "#Let's confirm if all elements in this column are 'current'\n",
    "\n",
    "np.unique(loan_data_strings[:,1])"
   ]
  },
  {
   "cell_type": "code",
   "execution_count": 49,
   "id": "dfcfb6d3-2175-4275-a121-0271512796ca",
   "metadata": {},
   "outputs": [
    {
     "data": {
      "text/plain": [
       "9"
      ]
     },
     "execution_count": 49,
     "metadata": {},
     "output_type": "execute_result"
    }
   ],
   "source": [
    "np.unique(loan_data_strings[:,1]).size"
   ]
  },
  {
   "cell_type": "code",
   "execution_count": 51,
   "id": "426925e3-55ee-4119-9a6c-ef62d153dd93",
   "metadata": {},
   "outputs": [],
   "source": [
    "#Banks use regression analysis to assess loan applicants, their primary concern is \n",
    "#determining whether the applicant has a consistent and dependable financial standing. \n",
    "#We need to split all possible values of 'loan_status' into either good or bad (0 or 1)\n",
    "#fully paid, Current, In Grace period, Issued, late (16-30 days) = good and the rest are bad\n",
    "\n",
    "status_bad = np.array(['', 'Charged Off', 'Default', 'Late (31-120 days)'])"
   ]
  },
  {
   "cell_type": "code",
   "execution_count": 52,
   "id": "24efa968-d169-4823-af20-fbf7d3f16b9c",
   "metadata": {},
   "outputs": [],
   "source": [
    "#Let's check if an element in loan_status column is in status_bad, if so assign it a zero and if not, assign a one\n",
    "loan_data_strings[:,1] = np.where(np.isin(loan_data_strings[:,1], status_bad), 0, 1)"
   ]
  },
  {
   "cell_type": "code",
   "execution_count": 54,
   "id": "772e99e5-8a68-49df-a9c3-2db9d51e34bb",
   "metadata": {},
   "outputs": [
    {
     "data": {
      "text/plain": [
       "array(['0', '1'], dtype='<U69')"
      ]
     },
     "execution_count": 54,
     "metadata": {},
     "output_type": "execute_result"
    }
   ],
   "source": [
    "#let's confirm if all elements in the loan_status have the dumby variable 1 or 0 only\n",
    "np.unique(loan_data_strings[:,1])"
   ]
  },
  {
   "cell_type": "markdown",
   "id": "3a7d94e1-a411-470e-ab08-71b71ea53ec3",
   "metadata": {},
   "source": [
    "## Term"
   ]
  },
  {
   "cell_type": "code",
   "execution_count": 55,
   "id": "78906b75-02c3-4c3b-a9ea-26609cd711e2",
   "metadata": {},
   "outputs": [
    {
     "data": {
      "text/plain": [
       "array(['issue_date', 'loan_status', 'term', 'grade', 'sub_grade', 'verification_status', 'url',\n",
       "       'addr_state'], dtype='<U19')"
      ]
     },
     "execution_count": 55,
     "metadata": {},
     "output_type": "execute_result"
    }
   ],
   "source": [
    "#Let's ;ool at other columns in the string data\n",
    "header_strings"
   ]
  },
  {
   "cell_type": "code",
   "execution_count": 56,
   "id": "9be111e7-8430-492d-8f6e-abbae59e50f4",
   "metadata": {},
   "outputs": [
    {
     "data": {
      "text/plain": [
       "array(['36 months', '36 months', '36 months', ..., '36 months', '36 months', '36 months'],\n",
       "      dtype='<U69')"
      ]
     },
     "execution_count": 56,
     "metadata": {},
     "output_type": "execute_result"
    }
   ],
   "source": [
    "loan_data_strings[:,2]"
   ]
  },
  {
   "cell_type": "code",
   "execution_count": 57,
   "id": "c991481e-d342-403f-9ea7-78a3e5b07551",
   "metadata": {},
   "outputs": [
    {
     "data": {
      "text/plain": [
       "array(['', '36 months', '60 months'], dtype='<U69')"
      ]
     },
     "execution_count": 57,
     "metadata": {},
     "output_type": "execute_result"
    }
   ],
   "source": [
    "np.unique(loan_data_strings[:,2])"
   ]
  },
  {
   "cell_type": "code",
   "execution_count": 58,
   "id": "45118ff6-0aa7-49cd-9668-cffabda672eb",
   "metadata": {},
   "outputs": [
    {
     "data": {
      "text/plain": [
       "array(['36', '36', '36', ..., '36', '36', '36'], dtype='<U69')"
      ]
     },
     "execution_count": 58,
     "metadata": {},
     "output_type": "execute_result"
    }
   ],
   "source": [
    "#let's remove the \" months\" (empty months) string\n",
    "\n",
    "loan_data_strings[:,2] = np.chararray.strip(loan_data_strings[:,2], \" months\")\n",
    "loan_data_strings[:,2]"
   ]
  },
  {
   "cell_type": "code",
   "execution_count": 59,
   "id": "641828bf-4c6b-4dbc-acb0-4838621f69b9",
   "metadata": {},
   "outputs": [
    {
     "data": {
      "text/plain": [
       "array(['', '36', '60'], dtype='<U69')"
      ]
     },
     "execution_count": 59,
     "metadata": {},
     "output_type": "execute_result"
    }
   ],
   "source": [
    "np.unique(loan_data_strings[:,2])"
   ]
  },
  {
   "cell_type": "code",
   "execution_count": 61,
   "id": "9aa5013a-6dfe-4994-bad9-9491c5d2ac32",
   "metadata": {},
   "outputs": [],
   "source": [
    "#Let's rename the column to make it more descriptive of what the data represents\n",
    "header_strings[2] = \"term_months\""
   ]
  },
  {
   "cell_type": "code",
   "execution_count": 63,
   "id": "f5837909-5770-4898-b0d0-c6adb5ca5783",
   "metadata": {},
   "outputs": [],
   "source": [
    "#When we have missing data in the Credit Risk Model (CRM), we assume the worst\n",
    "#Let's convert empty strings to '60'\n",
    "loan_data_strings[:,2] = np.where(loan_data_strings[:,2] == '',\n",
    "                                  '60', \n",
    "                                  loan_data_strings[:,2])\n"
   ]
  },
  {
   "cell_type": "code",
   "execution_count": 65,
   "id": "789954d7-b6df-4b49-9eec-40957cd9982e",
   "metadata": {},
   "outputs": [
    {
     "data": {
      "text/plain": [
       "array(['36', '60'], dtype='<U69')"
      ]
     },
     "execution_count": 65,
     "metadata": {},
     "output_type": "execute_result"
    }
   ],
   "source": [
    "#Let's check to see the contents of term_months again\n",
    "#After that we will look at grade and subgrade\n",
    "np.unique(loan_data_strings[:,2])"
   ]
  },
  {
   "cell_type": "markdown",
   "id": "b2d35bd0-ece6-4fab-bba4-7682e5c4c3d2",
   "metadata": {},
   "source": [
    "Grade and Subgrade"
   ]
  },
  {
   "cell_type": "code",
   "execution_count": 67,
   "id": "271f5efa-a202-4804-91f5-3155627c717f",
   "metadata": {},
   "outputs": [
    {
     "data": {
      "text/plain": [
       "array(['issue_date', 'loan_status', 'term_months', 'grade', 'sub_grade', 'verification_status',\n",
       "       'url', 'addr_state'], dtype='<U19')"
      ]
     },
     "execution_count": 67,
     "metadata": {},
     "output_type": "execute_result"
    }
   ],
   "source": [
    "header_strings"
   ]
  },
  {
   "cell_type": "code",
   "execution_count": 68,
   "id": "86eaca8b-90cf-458d-bf0b-33bf67b73601",
   "metadata": {},
   "outputs": [
    {
     "data": {
      "text/plain": [
       "array(['C', 'A', 'B', ..., 'A', 'D', 'A'], dtype='<U69')"
      ]
     },
     "execution_count": 68,
     "metadata": {},
     "output_type": "execute_result"
    }
   ],
   "source": [
    "loan_data_strings[:,3]"
   ]
  },
  {
   "cell_type": "code",
   "execution_count": 69,
   "id": "5cb5f88d-3a0a-41d3-8bec-4637e331285a",
   "metadata": {},
   "outputs": [
    {
     "data": {
      "text/plain": [
       "array(['', 'A', 'B', 'C', 'D', 'E', 'F', 'G'], dtype='<U69')"
      ]
     },
     "execution_count": 69,
     "metadata": {},
     "output_type": "execute_result"
    }
   ],
   "source": [
    "np.unique(loan_data_strings[:,3])"
   ]
  },
  {
   "cell_type": "code",
   "execution_count": 72,
   "id": "6329bd9f-3256-4dc0-a869-cb0ff5237c44",
   "metadata": {},
   "outputs": [
    {
     "data": {
      "text/plain": [
       "array(['C3', 'A5', 'B5', ..., 'A5', 'D2', 'A4'], dtype='<U69')"
      ]
     },
     "execution_count": 72,
     "metadata": {},
     "output_type": "execute_result"
    }
   ],
   "source": [
    "loan_data_strings[:,4]\n"
   ]
  },
  {
   "cell_type": "code",
   "execution_count": 71,
   "id": "c0673196-1a2c-4b6e-931d-86baf9befc17",
   "metadata": {},
   "outputs": [
    {
     "data": {
      "text/plain": [
       "array(['', 'A1', 'A2', 'A3', 'A4', 'A5', 'B1', 'B2', 'B3', 'B4', 'B5', 'C1', 'C2', 'C3', 'C4',\n",
       "       'C5', 'D1', 'D2', 'D3', 'D4', 'D5', 'E1', 'E2', 'E3', 'E4', 'E5', 'F1', 'F2', 'F3', 'F4',\n",
       "       'F5', 'G1', 'G2', 'G3', 'G4', 'G5'], dtype='<U69')"
      ]
     },
     "execution_count": 71,
     "metadata": {},
     "output_type": "execute_result"
    }
   ],
   "source": [
    "np.unique(loan_data_strings[:,4])"
   ]
  },
  {
   "cell_type": "code",
   "execution_count": 79,
   "id": "3a1f6cc3-cd86-4914-aa29-983c3688c77f",
   "metadata": {},
   "outputs": [],
   "source": [
    "#Grade and subgrade are  related making grade somewhat redundant, thus can grade can be later removed\n",
    "# Empty strings in subgrade can be substituted using grade\n",
    "# Use grade for an approriate approximation of subgrade empty string\n",
    "\n",
    "for i in np.unique(loan_data_strings[:,3])[1:]:\n",
    "    loan_data_strings[:,4] = np.where((loan_data_strings[:,4] == '') & (loan_data_strings[:,3] == i),\n",
    "                                      i + '5',\n",
    "                                      loan_data_strings[:,4])"
   ]
  },
  {
   "cell_type": "code",
   "execution_count": 80,
   "id": "074324df-0c93-414c-8c87-9441e0a9222a",
   "metadata": {},
   "outputs": [
    {
     "data": {
      "text/plain": [
       "array(['', 'A1', 'A2', 'A3', 'A4', 'A5', 'B1', 'B2', 'B3', 'B4', 'B5', 'C1', 'C2', 'C3', 'C4',\n",
       "       'C5', 'D1', 'D2', 'D3', 'D4', 'D5', 'E1', 'E2', 'E3', 'E4', 'E5', 'F1', 'F2', 'F3', 'F4',\n",
       "       'F5', 'G1', 'G2', 'G3', 'G4', 'G5'], dtype='<U69')"
      ]
     },
     "execution_count": 80,
     "metadata": {},
     "output_type": "execute_result"
    }
   ],
   "source": [
    "np.unique(loan_data_strings[:,4])"
   ]
  },
  {
   "cell_type": "code",
   "execution_count": 83,
   "id": "bb05aeb2-706c-4ecf-bd60-231241249c8a",
   "metadata": {},
   "outputs": [
    {
     "data": {
      "text/plain": [
       "(array(['', 'A1', 'A2', 'A3', 'A4', 'A5', 'B1', 'B2', 'B3', 'B4', 'B5', 'C1', 'C2', 'C3', 'C4',\n",
       "        'C5', 'D1', 'D2', 'D3', 'D4', 'D5', 'E1', 'E2', 'E3', 'E4', 'E5', 'F1', 'F2', 'F3', 'F4',\n",
       "        'F5', 'G1', 'G2', 'G3', 'G4', 'G5'], dtype='<U69'),\n",
       " array([  9, 285, 278, 239, 323, 592, 509, 517, 530, 553, 633, 629, 567, 586, 564, 577, 391, 267,\n",
       "        250, 255, 288, 235, 162, 171, 139, 160,  94,  52,  34,  43,  24,  19,  10,   3,   7,   5],\n",
       "       dtype=int64))"
      ]
     },
     "execution_count": 83,
     "metadata": {},
     "output_type": "execute_result"
    }
   ],
   "source": [
    "#When return_counts = True, np.unique will return the number of times each unique value occurs in the input array.\n",
    "#Let's see how many times we get the empty string\n",
    "np.unique(loan_data_strings[:,4], return_counts = True)"
   ]
  },
  {
   "cell_type": "code",
   "execution_count": 85,
   "id": "5554be7b-a0b0-47ee-baa9-ec0a4a4666e9",
   "metadata": {},
   "outputs": [],
   "source": [
    "#We have 9 empty spaces out of 10 000 rows which means they are insignificant\n",
    "#However, let's not igonore these empty space, instead\n",
    "#Let's assign the empty space a new value of 'H1'\n",
    "\n",
    "loan_data_strings[:,4] = np.where(loan_data_strings[:,4] == '',\n",
    "                                      'H1',\n",
    "                                      loan_data_strings[:,4])"
   ]
  },
  {
   "cell_type": "code",
   "execution_count": 86,
   "id": "df738beb-7328-4f63-a3c5-23bc7eafab9b",
   "metadata": {},
   "outputs": [
    {
     "data": {
      "text/plain": [
       "array(['A1', 'A2', 'A3', 'A4', 'A5', 'B1', 'B2', 'B3', 'B4', 'B5', 'C1', 'C2', 'C3', 'C4', 'C5',\n",
       "       'D1', 'D2', 'D3', 'D4', 'D5', 'E1', 'E2', 'E3', 'E4', 'E5', 'F1', 'F2', 'F3', 'F4', 'F5',\n",
       "       'G1', 'G2', 'G3', 'G4', 'G5', 'H1'], dtype='<U69')"
      ]
     },
     "execution_count": 86,
     "metadata": {},
     "output_type": "execute_result"
    }
   ],
   "source": [
    "np.unique(loan_data_strings[:,4])"
   ]
  },
  {
   "cell_type": "markdown",
   "id": "038d5813-4c86-4677-b221-afd283d1cc79",
   "metadata": {},
   "source": [
    "Removing Grade"
   ]
  },
  {
   "cell_type": "code",
   "execution_count": 87,
   "id": "15dcd47c-cc44-4cb5-b8b0-0fd40f31be24",
   "metadata": {},
   "outputs": [],
   "source": [
    "#We no longer need grade in the dataset as the information is carried by subgrade\n",
    "#axis = 1 indicates that the deletion operation should be applied along the columns (or second axis) of the array.\n",
    "loan_data_strings = np.delete(loan_data_strings, 3, axis = 1)"
   ]
  },
  {
   "cell_type": "code",
   "execution_count": 88,
   "id": "2d5014bf-b1bb-4a9d-827b-654a11c24c72",
   "metadata": {},
   "outputs": [
    {
     "data": {
      "text/plain": [
       "array(['C3', 'A5', 'B5', ..., 'A5', 'D2', 'A4'], dtype='<U69')"
      ]
     },
     "execution_count": 88,
     "metadata": {},
     "output_type": "execute_result"
    }
   ],
   "source": [
    "loan_data_strings[:,3]"
   ]
  },
  {
   "cell_type": "code",
   "execution_count": 89,
   "id": "0bf849dd-1665-44fa-8229-c5a62b4e6043",
   "metadata": {},
   "outputs": [
    {
     "data": {
      "text/plain": [
       "array(['issue_date', 'loan_status', 'term_months', 'grade', 'sub_grade', 'verification_status',\n",
       "       'url', 'addr_state'], dtype='<U19')"
      ]
     },
     "execution_count": 89,
     "metadata": {},
     "output_type": "execute_result"
    }
   ],
   "source": [
    "header_strings"
   ]
  },
  {
   "cell_type": "code",
   "execution_count": 90,
   "id": "c0f8bbc6-9308-4b6b-a1c0-2d86af1ff1e9",
   "metadata": {},
   "outputs": [],
   "source": [
    "header_strings =np.delete(header_strings, 3)"
   ]
  },
  {
   "cell_type": "code",
   "execution_count": 91,
   "id": "cf1d9fbd-10f6-424f-bf03-c4772bdaca5b",
   "metadata": {},
   "outputs": [
    {
     "data": {
      "text/plain": [
       "array(['issue_date', 'loan_status', 'term_months', 'sub_grade', 'verification_status', 'url',\n",
       "       'addr_state'], dtype='<U19')"
      ]
     },
     "execution_count": 91,
     "metadata": {},
     "output_type": "execute_result"
    }
   ],
   "source": [
    "header_strings"
   ]
  },
  {
   "cell_type": "code",
   "execution_count": 92,
   "id": "bc666cd4-8060-49de-8162-50751ade16b4",
   "metadata": {},
   "outputs": [
    {
     "data": {
      "text/plain": [
       "'sub_grade'"
      ]
     },
     "execution_count": 92,
     "metadata": {},
     "output_type": "execute_result"
    }
   ],
   "source": [
    "header_strings[3]"
   ]
  },
  {
   "cell_type": "markdown",
   "id": "498a925d-7a4f-4622-b49d-dc5f6ff48f7f",
   "metadata": {},
   "source": [
    "## Converting Sub Grade"
   ]
  },
  {
   "cell_type": "code",
   "execution_count": 93,
   "id": "a3822a71-8273-4c05-ba83-9111409494c2",
   "metadata": {},
   "outputs": [
    {
     "data": {
      "text/plain": [
       "array(['C3', 'A5', 'B5', ..., 'A5', 'D2', 'A4'], dtype='<U69')"
      ]
     },
     "execution_count": 93,
     "metadata": {},
     "output_type": "execute_result"
    }
   ],
   "source": [
    "loan_data_strings[:,3]"
   ]
  },
  {
   "cell_type": "code",
   "execution_count": 94,
   "id": "3f002d52-fcfb-4393-9318-4c3347628d52",
   "metadata": {},
   "outputs": [
    {
     "data": {
      "text/plain": [
       "array(['A1', 'A2', 'A3', 'A4', 'A5', 'B1', 'B2', 'B3', 'B4', 'B5', 'C1', 'C2', 'C3', 'C4', 'C5',\n",
       "       'D1', 'D2', 'D3', 'D4', 'D5', 'E1', 'E2', 'E3', 'E4', 'E5', 'F1', 'F2', 'F3', 'F4', 'F5',\n",
       "       'G1', 'G2', 'G3', 'G4', 'G5', 'H1'], dtype='<U69')"
      ]
     },
     "execution_count": 94,
     "metadata": {},
     "output_type": "execute_result"
    }
   ],
   "source": [
    "np.unique(loan_data_strings[:,3])"
   ]
  },
  {
   "cell_type": "code",
   "execution_count": 95,
   "id": "18d2c1b3-a3da-45f6-bdd2-4e7fbbf93c02",
   "metadata": {},
   "outputs": [],
   "source": [
    "#Let's convert the sub-grade elements into numeric values\n",
    "\n",
    "keys = list(np.unique(loan_data_strings[:,3]))\n",
    "values = list(range(1, np.unique(loan_data_strings[:,3]).shape[0] + 1))\n",
    "dict_sub_grade  = dict(zip(keys, values))"
   ]
  },
  {
   "cell_type": "code",
   "execution_count": 97,
   "id": "5f227b67-fa65-4c3c-827d-d472053425db",
   "metadata": {},
   "outputs": [
    {
     "data": {
      "text/plain": [
       "{'A1': 1,\n",
       " 'A2': 2,\n",
       " 'A3': 3,\n",
       " 'A4': 4,\n",
       " 'A5': 5,\n",
       " 'B1': 6,\n",
       " 'B2': 7,\n",
       " 'B3': 8,\n",
       " 'B4': 9,\n",
       " 'B5': 10,\n",
       " 'C1': 11,\n",
       " 'C2': 12,\n",
       " 'C3': 13,\n",
       " 'C4': 14,\n",
       " 'C5': 15,\n",
       " 'D1': 16,\n",
       " 'D2': 17,\n",
       " 'D3': 18,\n",
       " 'D4': 19,\n",
       " 'D5': 20,\n",
       " 'E1': 21,\n",
       " 'E2': 22,\n",
       " 'E3': 23,\n",
       " 'E4': 24,\n",
       " 'E5': 25,\n",
       " 'F1': 26,\n",
       " 'F2': 27,\n",
       " 'F3': 28,\n",
       " 'F4': 29,\n",
       " 'F5': 30,\n",
       " 'G1': 31,\n",
       " 'G2': 32,\n",
       " 'G3': 33,\n",
       " 'G4': 34,\n",
       " 'G5': 35,\n",
       " 'H1': 36}"
      ]
     },
     "execution_count": 97,
     "metadata": {},
     "output_type": "execute_result"
    }
   ],
   "source": [
    "dict(zip(keys, values))"
   ]
  },
  {
   "cell_type": "code",
   "execution_count": 98,
   "id": "459bf395-3c91-4521-9460-1d9a03b36c71",
   "metadata": {},
   "outputs": [],
   "source": [
    "for i in np.unique(loan_data_strings[:,3]):\n",
    "    loan_data_strings[:,3] = np.where(loan_data_strings[:,3] == i,\n",
    "                                      dict_sub_grade[i],\n",
    "                                     loan_data_strings[:,3])"
   ]
  },
  {
   "cell_type": "code",
   "execution_count": 99,
   "id": "4f6c1395-e0eb-4d4d-aee5-712f0d8263aa",
   "metadata": {},
   "outputs": [
    {
     "data": {
      "text/plain": [
       "array(['1', '10', '11', '12', '13', '14', '15', '16', '17', '18', '19', '2', '20', '21', '22',\n",
       "       '23', '24', '25', '26', '27', '28', '29', '3', '30', '31', '32', '33', '34', '35', '36',\n",
       "       '4', '5', '6', '7', '8', '9'], dtype='<U69')"
      ]
     },
     "execution_count": 99,
     "metadata": {},
     "output_type": "execute_result"
    }
   ],
   "source": [
    "np.unique(loan_data_strings[:,3])"
   ]
  },
  {
   "cell_type": "markdown",
   "id": "dc7dbd20-17a3-44c6-b2a6-3d8fc4e18cdf",
   "metadata": {},
   "source": [
    "## Verification Status"
   ]
  },
  {
   "cell_type": "code",
   "execution_count": 100,
   "id": "03595a19-413b-485e-a2da-f75109c5511d",
   "metadata": {},
   "outputs": [
    {
     "data": {
      "text/plain": [
       "array(['issue_date', 'loan_status', 'term_months', 'sub_grade', 'verification_status', 'url',\n",
       "       'addr_state'], dtype='<U19')"
      ]
     },
     "execution_count": 100,
     "metadata": {},
     "output_type": "execute_result"
    }
   ],
   "source": [
    "header_strings"
   ]
  },
  {
   "cell_type": "code",
   "execution_count": 103,
   "id": "c9fd1ac1-4393-4bf8-8834-c2229f02016b",
   "metadata": {},
   "outputs": [
    {
     "data": {
      "text/plain": [
       "array(['Verified', 'Source Verified', 'Verified', ..., 'Source Verified', 'Source Verified', ''],\n",
       "      dtype='<U69')"
      ]
     },
     "execution_count": 103,
     "metadata": {},
     "output_type": "execute_result"
    }
   ],
   "source": [
    "loan_data_strings[:,4]"
   ]
  },
  {
   "cell_type": "code",
   "execution_count": 104,
   "id": "bcca6f7f-c429-40bb-91d2-00d386fb9da5",
   "metadata": {},
   "outputs": [
    {
     "data": {
      "text/plain": [
       "array(['', 'Not Verified', 'Source Verified', 'Verified'], dtype='<U69')"
      ]
     },
     "execution_count": 104,
     "metadata": {},
     "output_type": "execute_result"
    }
   ],
   "source": [
    "np.unique(loan_data_strings[:,4])"
   ]
  },
  {
   "cell_type": "code",
   "execution_count": 113,
   "id": "45a53fc4-f890-4530-b044-36b06507f8b4",
   "metadata": {},
   "outputs": [],
   "source": [
    "#Just line lon status, we will set the good and bad verification_statuses as 1 and 0 repectively\n",
    "# '' and not verified are bad hence equal to 0\n",
    "# source verified and verified are good hence assign a 1\n",
    "\n",
    "\n",
    "loan_data_strings[:, 4] = np.where((loan_data_strings[:, 4] == '') | (loan_data_strings[:, 4] == 'Not Verified'), 0, 1)"
   ]
  },
  {
   "cell_type": "code",
   "execution_count": 114,
   "id": "5b583392-5f71-4261-bd93-c93b0e1077bb",
   "metadata": {},
   "outputs": [
    {
     "data": {
      "text/plain": [
       "array(['0', '1'], dtype='<U69')"
      ]
     },
     "execution_count": 114,
     "metadata": {},
     "output_type": "execute_result"
    }
   ],
   "source": [
    "np.unique(loan_data_strings[:,4])"
   ]
  },
  {
   "cell_type": "markdown",
   "id": "3537a62d-2a94-421b-b551-dc5df4bc9f51",
   "metadata": {},
   "source": [
    "## URL"
   ]
  },
  {
   "cell_type": "code",
   "execution_count": 115,
   "id": "82206a4f-a4a3-41b2-83ae-383a1e379988",
   "metadata": {},
   "outputs": [
    {
     "data": {
      "text/plain": [
       "array(['issue_date', 'loan_status', 'term_months', 'sub_grade', 'verification_status', 'url',\n",
       "       'addr_state'], dtype='<U19')"
      ]
     },
     "execution_count": 115,
     "metadata": {},
     "output_type": "execute_result"
    }
   ],
   "source": [
    "header_strings"
   ]
  },
  {
   "cell_type": "code",
   "execution_count": 116,
   "id": "01949450-e093-40f8-8dcf-d6a82afbf7b4",
   "metadata": {},
   "outputs": [
    {
     "data": {
      "text/plain": [
       "array(['https://www.lendingclub.com/browse/loanDetail.action?loan_id=48010226',\n",
       "       'https://www.lendingclub.com/browse/loanDetail.action?loan_id=57693261',\n",
       "       'https://www.lendingclub.com/browse/loanDetail.action?loan_id=59432726', ...,\n",
       "       'https://www.lendingclub.com/browse/loanDetail.action?loan_id=50415990',\n",
       "       'https://www.lendingclub.com/browse/loanDetail.action?loan_id=46154151',\n",
       "       'https://www.lendingclub.com/browse/loanDetail.action?loan_id=66055249'], dtype='<U69')"
      ]
     },
     "execution_count": 116,
     "metadata": {},
     "output_type": "execute_result"
    }
   ],
   "source": [
    "loan_data_strings[:,5]"
   ]
  },
  {
   "cell_type": "code",
   "execution_count": 120,
   "id": "d747624d-eced-479b-b788-eca15492d3a8",
   "metadata": {},
   "outputs": [
    {
     "data": {
      "text/plain": [
       "chararray(['48010226', '57693261', '59432726', ..., '50415990', '46154151', '66055249'],\n",
       "          dtype='<U69')"
      ]
     },
     "execution_count": 120,
     "metadata": {},
     "output_type": "execute_result"
    }
   ],
   "source": [
    "np.chararray.strip(loan_data_strings[:,5], \"https://www.lendingclub.com/browse/loanDetail.action?loan_id=\")"
   ]
  },
  {
   "cell_type": "code",
   "execution_count": 121,
   "id": "1b56fc51-db05-40cd-a3c0-598358f10ac6",
   "metadata": {},
   "outputs": [],
   "source": [
    "loan_data_strings[:,5] = np.chararray.strip(loan_data_strings[:,5], \"https://www.lendingclub.com/browse/loanDetail.action?loan_id=\")"
   ]
  },
  {
   "cell_type": "code",
   "execution_count": 125,
   "id": "f65e02c5-f093-46c5-86f1-98c563d110ed",
   "metadata": {},
   "outputs": [
    {
     "data": {
      "text/plain": [
       "array(['12606806', '13026045', '1312426', ..., '8138291', '8214572', '849994'], dtype='<U69')"
      ]
     },
     "execution_count": 125,
     "metadata": {},
     "output_type": "execute_result"
    }
   ],
   "source": [
    "np.unique(loan_data_strings[:,5])"
   ]
  },
  {
   "cell_type": "code",
   "execution_count": 126,
   "id": "133950ac-3276-4c65-ab34-78d443cbaad1",
   "metadata": {},
   "outputs": [
    {
     "data": {
      "text/plain": [
       "array(['id', 'issue_d', 'loan_amnt', 'loan_status', 'funded_amnt', 'term', 'int_rate',\n",
       "       'installment', 'grade', 'sub_grade', 'verification_status', 'url', 'addr_state',\n",
       "       'total_pymnt'], dtype='<U19')"
      ]
     },
     "execution_count": 126,
     "metadata": {},
     "output_type": "execute_result"
    }
   ],
   "source": [
    "# Recall that the id in the numeric string might possibly match this last digits on each url\n",
    "\n",
    "header_full"
   ]
  },
  {
   "cell_type": "code",
   "execution_count": 128,
   "id": "a84c112e-77f0-4338-86ff-b8f91c880252",
   "metadata": {},
   "outputs": [
    {
     "data": {
      "text/plain": [
       "array([48010226., 57693261., 59432726., ..., 50415990., 46154151., 66055249.])"
      ]
     },
     "execution_count": 128,
     "metadata": {},
     "output_type": "execute_result"
    }
   ],
   "source": [
    "#call the first column from the numeric dataset\n",
    "loan_data_numeric[:,0]"
   ]
  },
  {
   "cell_type": "code",
   "execution_count": 129,
   "id": "66866015-1539-4a02-8301-202c90587ef3",
   "metadata": {},
   "outputs": [
    {
     "data": {
      "text/plain": [
       "array(['48010226', '57693261', '59432726', ..., '50415990', '46154151', '66055249'], dtype='<U69')"
      ]
     },
     "execution_count": 129,
     "metadata": {},
     "output_type": "execute_result"
    }
   ],
   "source": [
    "#call the URL column\n",
    "\n",
    "loan_data_strings[:,5]"
   ]
  },
  {
   "cell_type": "code",
   "execution_count": 130,
   "id": "e51285e9-86dd-4c67-959f-d504e3c10e45",
   "metadata": {},
   "outputs": [
    {
     "data": {
      "text/plain": [
       "array([48010226, 57693261, 59432726, ..., 50415990, 46154151, 66055249])"
      ]
     },
     "execution_count": 130,
     "metadata": {},
     "output_type": "execute_result"
    }
   ],
   "source": [
    "#cast the URL data into integers\n",
    "loan_data_strings[:,5].astype(dtype = np.int32)"
   ]
  },
  {
   "cell_type": "code",
   "execution_count": 133,
   "id": "64ca3540-0d71-4aec-9335-c6f4f2763d00",
   "metadata": {},
   "outputs": [
    {
     "data": {
      "text/plain": [
       "True"
      ]
     },
     "execution_count": 133,
     "metadata": {},
     "output_type": "execute_result"
    }
   ],
   "source": [
    "#verify that the id and url suffix are the same using np. array_equal\n",
    "#Results show that the URL column doesnt hold any information which we cannot extract from the ID column so we can delete it\n",
    "np.array_equal(loan_data_strings[:,5].astype(dtype = np.int32),loan_data_numeric[:,0].astype(dtype = np.int32))"
   ]
  },
  {
   "cell_type": "code",
   "execution_count": 134,
   "id": "8e097e4c-8586-443e-ae14-75b2f4866b84",
   "metadata": {},
   "outputs": [],
   "source": [
    "#Let's get rid of url column from the header and string data\n",
    "loan_data_strings = np.delete(loan_data_strings, 5, axis  = 1)\n",
    "header_strings = np.delete(header_strings, 5)"
   ]
  },
  {
   "cell_type": "code",
   "execution_count": 135,
   "id": "91a26c87-7aa1-4b25-b470-a21cb04b5a54",
   "metadata": {},
   "outputs": [
    {
     "data": {
      "text/plain": [
       "array(['CA', 'NY', 'PA', ..., 'CA', 'OH', 'IL'], dtype='<U69')"
      ]
     },
     "execution_count": 135,
     "metadata": {},
     "output_type": "execute_result"
    }
   ],
   "source": [
    "#In the next cells just comfirm that we didn't accidentally delete important data (ID) from the numeric dataset\n",
    "loan_data_strings[:,5]"
   ]
  },
  {
   "cell_type": "code",
   "execution_count": 136,
   "id": "aad437e8-2c0a-434d-8988-b3f36db2c8e3",
   "metadata": {},
   "outputs": [
    {
     "data": {
      "text/plain": [
       "array(['issue_date', 'loan_status', 'term_months', 'sub_grade', 'verification_status',\n",
       "       'addr_state'], dtype='<U19')"
      ]
     },
     "execution_count": 136,
     "metadata": {},
     "output_type": "execute_result"
    }
   ],
   "source": [
    "header_strings"
   ]
  },
  {
   "cell_type": "code",
   "execution_count": 137,
   "id": "d50404ed-7fc5-4a80-a455-1d566a50e251",
   "metadata": {},
   "outputs": [
    {
     "data": {
      "text/plain": [
       "array([48010226., 57693261., 59432726., ..., 50415990., 46154151., 66055249.])"
      ]
     },
     "execution_count": 137,
     "metadata": {},
     "output_type": "execute_result"
    }
   ],
   "source": [
    "loan_data_numeric[:,0]"
   ]
  },
  {
   "cell_type": "code",
   "execution_count": 138,
   "id": "23bb2437-4b9a-4234-b49b-9d3f64071aba",
   "metadata": {},
   "outputs": [
    {
     "data": {
      "text/plain": [
       "array(['id', 'loan_amnt', 'funded_amnt', 'int_rate', 'installment', 'total_pymnt'], dtype='<U19')"
      ]
     },
     "execution_count": 138,
     "metadata": {},
     "output_type": "execute_result"
    }
   ],
   "source": [
    "header_numeric"
   ]
  },
  {
   "cell_type": "markdown",
   "id": "24ba725f-2df3-4132-96a1-e44a1cbee52b",
   "metadata": {},
   "source": [
    "## State Address"
   ]
  },
  {
   "cell_type": "code",
   "execution_count": 139,
   "id": "95528bb3-cda2-4127-82a8-92c604fbec6b",
   "metadata": {},
   "outputs": [
    {
     "data": {
      "text/plain": [
       "array(['issue_date', 'loan_status', 'term_months', 'sub_grade', 'verification_status',\n",
       "       'addr_state'], dtype='<U19')"
      ]
     },
     "execution_count": 139,
     "metadata": {},
     "output_type": "execute_result"
    }
   ],
   "source": [
    "header_strings"
   ]
  },
  {
   "cell_type": "code",
   "execution_count": 140,
   "id": "fee9c77a-6502-46bb-9427-570ce217249b",
   "metadata": {},
   "outputs": [
    {
     "data": {
      "text/plain": [
       "array(['CA', 'NY', 'PA', ..., 'CA', 'OH', 'IL'], dtype='<U69')"
      ]
     },
     "execution_count": 140,
     "metadata": {},
     "output_type": "execute_result"
    }
   ],
   "source": [
    "loan_data_strings[:,5]"
   ]
  },
  {
   "cell_type": "code",
   "execution_count": 143,
   "id": "f642bf4a-21b8-4a80-86cd-e6a2faeba0e7",
   "metadata": {},
   "outputs": [
    {
     "data": {
      "text/plain": [
       "array(['', 'AK', 'AL', 'AR', 'AZ', 'CA', 'CO', 'CT', 'DC', 'DE', 'FL', 'GA', 'HI', 'IL', 'IN',\n",
       "       'KS', 'KY', 'LA', 'MA', 'MD', 'ME', 'MI', 'MN', 'MO', 'MS', 'MT', 'NC', 'ND', 'NE', 'NH',\n",
       "       'NJ', 'NM', 'NV', 'NY', 'OH', 'OK', 'OR', 'PA', 'RI', 'SC', 'SD', 'TN', 'TX', 'UT', 'VA',\n",
       "       'VT', 'WA', 'WI', 'WV', 'WY'], dtype='<U69')"
      ]
     },
     "execution_count": 143,
     "metadata": {},
     "output_type": "execute_result"
    }
   ],
   "source": [
    "np.unique(loan_data_strings[:,5])"
   ]
  },
  {
   "cell_type": "code",
   "execution_count": 147,
   "id": "e94e920a-6f2a-44ba-9469-85f6bf57530a",
   "metadata": {},
   "outputs": [
    {
     "data": {
      "text/plain": [
       "50"
      ]
     },
     "execution_count": 147,
     "metadata": {},
     "output_type": "execute_result"
    }
   ],
   "source": [
    "np.unique(loan_data_strings[:,5]).size"
   ]
  },
  {
   "cell_type": "code",
   "execution_count": 150,
   "id": "025d9ee3-867a-4df5-99a1-9a7bf72b645c",
   "metadata": {},
   "outputs": [],
   "source": [
    "header_strings[5] = \"state_address\""
   ]
  },
  {
   "cell_type": "code",
   "execution_count": 151,
   "id": "954f507e-ed9e-4488-9b11-957d7c0d569f",
   "metadata": {},
   "outputs": [
    {
     "data": {
      "text/plain": [
       "array(['issue_date', 'loan_status', 'term_months', 'sub_grade', 'verification_status',\n",
       "       'state_address'], dtype='<U19')"
      ]
     },
     "execution_count": 151,
     "metadata": {},
     "output_type": "execute_result"
    }
   ],
   "source": [
    "header_strings"
   ]
  },
  {
   "cell_type": "code",
   "execution_count": 149,
   "id": "48f60b7a-df88-4178-9230-db08b07fdb67",
   "metadata": {},
   "outputs": [
    {
     "data": {
      "text/plain": [
       "(array(['', 'AK', 'AL', 'AR', 'AZ', 'CA', 'CO', 'CT', 'DC', 'DE', 'FL', 'GA', 'HI', 'IL', 'IN',\n",
       "        'KS', 'KY', 'LA', 'MA', 'MD', 'ME', 'MI', 'MN', 'MO', 'MS', 'MT', 'NC', 'ND', 'NE', 'NH',\n",
       "        'NJ', 'NM', 'NV', 'NY', 'OH', 'OK', 'OR', 'PA', 'RI', 'SC', 'SD', 'TN', 'TX', 'UT', 'VA',\n",
       "        'VT', 'WA', 'WI', 'WV', 'WY'], dtype='<U69'),\n",
       " array([ 500,   26,  119,   74,  220, 1336,  201,  143,   27,   27,  690,  321,   44,  389,  152,\n",
       "          84,   84,  116,  210,  222,   10,  267,  156,  160,   61,   28,  261,   16,   25,   58,\n",
       "         341,   57,  130,  777,  312,   83,  108,  320,   40,  107,   24,  143,  758,   74,  242,\n",
       "          17,  216,  148,   49,   27], dtype=int64))"
      ]
     },
     "execution_count": 149,
     "metadata": {},
     "output_type": "execute_result"
    }
   ],
   "source": [
    "np.unique(loan_data_strings[:,5], return_counts = True)"
   ]
  },
  {
   "cell_type": "code",
   "execution_count": 153,
   "id": "a74fe349-2bd6-40fc-b5b9-e5406f10ac92",
   "metadata": {},
   "outputs": [
    {
     "data": {
      "text/plain": [
       "(array(['CA', 'NY', 'TX', 'FL', '', 'IL', 'NJ', 'GA', 'PA', 'OH', 'MI', 'NC', 'VA', 'MD', 'AZ',\n",
       "        'WA', 'MA', 'CO', 'MO', 'MN', 'IN', 'WI', 'CT', 'TN', 'NV', 'AL', 'LA', 'OR', 'SC', 'KY',\n",
       "        'KS', 'OK', 'UT', 'AR', 'MS', 'NH', 'NM', 'WV', 'HI', 'RI', 'MT', 'DE', 'DC', 'WY', 'AK',\n",
       "        'NE', 'SD', 'VT', 'ND', 'ME'], dtype='<U69'),\n",
       " array([1336,  777,  758,  690,  500,  389,  341,  321,  320,  312,  267,  261,  242,  222,  220,\n",
       "         216,  210,  201,  160,  156,  152,  148,  143,  143,  130,  119,  116,  108,  107,   84,\n",
       "          84,   83,   74,   74,   61,   58,   57,   49,   44,   40,   28,   27,   27,   27,   26,\n",
       "          25,   24,   17,   16,   10], dtype=int64))"
      ]
     },
     "execution_count": 153,
     "metadata": {},
     "output_type": "execute_result"
    }
   ],
   "source": [
    "#Let's sort states and matching number of applicants in descing order\n",
    "#argsort will give us the indices of values/counts arranged in ascending order so use a negative sign for descending order\n",
    "states_names, states_count = np.unique(loan_data_strings[:,5], return_counts = True)\n",
    "states_count_sorted = np.argsort(-states_count)\n",
    "states_names[states_count_sorted], states_count[states_count_sorted]\n"
   ]
  },
  {
   "cell_type": "code",
   "execution_count": 154,
   "id": "648083c3-1dcd-42d7-9484-74f897aa2fc3",
   "metadata": {},
   "outputs": [],
   "source": [
    "#There are more applications with missing or unreported addresses than there are for 45 of the other states\n",
    "# i.e 500 APPLICANTS from empty string state ''\n",
    "#Aggregated geographical data (e.g., regional economic indicators) \n",
    "#may help address the limitations associated with missing location information while still capturing relevant geographical risk factors.\n",
    "# First let's take care of empty valuessss\n",
    "\n",
    "loan_data_strings[:,5] = np.where(loan_data_strings[:,5] == '', 0, loan_data_strings[:,5] )"
   ]
  },
  {
   "cell_type": "markdown",
   "id": "f86ce543-59b0-4785-aca1-e40717ecd877",
   "metadata": {},
   "source": [
    "## https://www2.census.gov/geo/pdfs/maps-data/maps/reference/us_regdiv.pdf"
   ]
  },
  {
   "cell_type": "code",
   "execution_count": 156,
   "id": "8f27abae-b650-4c07-8271-1a6fc5635320",
   "metadata": {},
   "outputs": [],
   "source": [
    "states_west = np.array(['WA', 'OR','CA','NV','ID','MT', 'WY','UT','CO', 'AZ','NM','HI','AK'])\n",
    "states_south = np.array(['TX','OK','AR','LA','MS','AL','TN','KY','FL','GA','SC','NC','VA','WV','MD','DE','DC'])\n",
    "states_midwest = np.array(['ND','SD','NE','KS','MN','IA','MO','WI','IL','IN','MI','OH'])\n",
    "states_east = np.array(['PA','NY','NJ','CT','MA','VT','NH','ME','RI'])"
   ]
  },
  {
   "cell_type": "code",
   "execution_count": 157,
   "id": "7ff920a3-ec31-40a9-9888-1a079f64a586",
   "metadata": {},
   "outputs": [],
   "source": [
    "loan_data_strings[:,5] = np.where(np.isin(loan_data_strings[:,5], states_west), 1, loan_data_strings[:,5])\n",
    "loan_data_strings[:,5] = np.where(np.isin(loan_data_strings[:,5], states_south), 2, loan_data_strings[:,5])\n",
    "loan_data_strings[:,5] = np.where(np.isin(loan_data_strings[:,5], states_midwest), 3, loan_data_strings[:,5])\n",
    "loan_data_strings[:,5] = np.where(np.isin(loan_data_strings[:,5], states_east), 4, loan_data_strings[:,5])"
   ]
  },
  {
   "cell_type": "code",
   "execution_count": 158,
   "id": "bb79a83a-af22-41ed-a020-9ac2b50a27e4",
   "metadata": {},
   "outputs": [
    {
     "data": {
      "text/plain": [
       "array(['0', '1', '2', '3', '4'], dtype='<U69')"
      ]
     },
     "execution_count": 158,
     "metadata": {},
     "output_type": "execute_result"
    }
   ],
   "source": [
    "np.unique(loan_data_strings[:,5])"
   ]
  },
  {
   "cell_type": "code",
   "execution_count": 162,
   "id": "69da8dab-ef46-400f-860f-be1a46e33394",
   "metadata": {},
   "outputs": [
    {
     "data": {
      "text/plain": [
       "array(['issue_date', 'loan_status', 'term_months', 'sub_grade', 'verification_status',\n",
       "       'state_address'], dtype='<U19')"
      ]
     },
     "execution_count": 162,
     "metadata": {},
     "output_type": "execute_result"
    }
   ],
   "source": [
    "header_strings\n"
   ]
  },
  {
   "cell_type": "markdown",
   "id": "e2e209df-a32f-44ea-af43-ca713be26f63",
   "metadata": {},
   "source": [
    "Converting to Numbers"
   ]
  },
  {
   "cell_type": "code",
   "execution_count": 163,
   "id": "28a6032f-7340-4ba7-8913-02fd237a0e02",
   "metadata": {},
   "outputs": [
    {
     "data": {
      "text/plain": [
       "array([['5', '1', '36', '13', '1', '1'],\n",
       "       ['0', '1', '36', '5', '1', '4'],\n",
       "       ['9', '1', '36', '10', '1', '4'],\n",
       "       ...,\n",
       "       ['6', '1', '36', '5', '1', '1'],\n",
       "       ['4', '1', '36', '17', '1', '3'],\n",
       "       ['12', '1', '36', '4', '0', '3']], dtype='<U69')"
      ]
     },
     "execution_count": 163,
     "metadata": {},
     "output_type": "execute_result"
    }
   ],
   "source": [
    "loan_data_strings"
   ]
  },
  {
   "cell_type": "code",
   "execution_count": 166,
   "id": "657af487-cded-452d-9b0b-44653b45f038",
   "metadata": {},
   "outputs": [],
   "source": [
    "loan_data_strings = loan_data_strings.astype(int)"
   ]
  },
  {
   "cell_type": "code",
   "execution_count": 167,
   "id": "0f5dff28-e701-42ed-8578-6866c86a58b3",
   "metadata": {},
   "outputs": [
    {
     "data": {
      "text/plain": [
       "array([[ 5,  1, 36, 13,  1,  1],\n",
       "       [ 0,  1, 36,  5,  1,  4],\n",
       "       [ 9,  1, 36, 10,  1,  4],\n",
       "       ...,\n",
       "       [ 6,  1, 36,  5,  1,  1],\n",
       "       [ 4,  1, 36, 17,  1,  3],\n",
       "       [12,  1, 36,  4,  0,  3]])"
      ]
     },
     "execution_count": 167,
     "metadata": {},
     "output_type": "execute_result"
    }
   ],
   "source": [
    "loan_data_strings"
   ]
  },
  {
   "cell_type": "markdown",
   "id": "c0bcb5c4-f32c-43a1-9d98-55acfab6d0a0",
   "metadata": {},
   "source": [
    "## Checkpoint 1: Strings"
   ]
  },
  {
   "cell_type": "code",
   "execution_count": 170,
   "id": "310dc541-e9b6-4757-a2fb-782b489090b5",
   "metadata": {},
   "outputs": [],
   "source": [
    "checkpoint_strings = checkpoint(\"checkpoint-strings\", header_strings, loan_data_strings)"
   ]
  },
  {
   "cell_type": "code",
   "execution_count": 171,
   "id": "fd874e11-ceb8-4294-8309-3a7eeed3f077",
   "metadata": {},
   "outputs": [
    {
     "data": {
      "text/plain": [
       "array(['issue_date', 'loan_status', 'term_months', 'sub_grade', 'verification_status',\n",
       "       'state_address'], dtype='<U19')"
      ]
     },
     "execution_count": 171,
     "metadata": {},
     "output_type": "execute_result"
    }
   ],
   "source": [
    "checkpoint_strings[\"header\"]"
   ]
  },
  {
   "cell_type": "code",
   "execution_count": 172,
   "id": "d0dbc706-8b9a-4161-9257-f4789a6614d2",
   "metadata": {},
   "outputs": [
    {
     "data": {
      "text/plain": [
       "array([[ 5,  1, 36, 13,  1,  1],\n",
       "       [ 0,  1, 36,  5,  1,  4],\n",
       "       [ 9,  1, 36, 10,  1,  4],\n",
       "       ...,\n",
       "       [ 6,  1, 36,  5,  1,  1],\n",
       "       [ 4,  1, 36, 17,  1,  3],\n",
       "       [12,  1, 36,  4,  0,  3]])"
      ]
     },
     "execution_count": 172,
     "metadata": {},
     "output_type": "execute_result"
    }
   ],
   "source": [
    "checkpoint_strings[\"data\"]"
   ]
  },
  {
   "cell_type": "code",
   "execution_count": 173,
   "id": "3dbf99d3-f826-46be-9e54-2621b8b2429e",
   "metadata": {},
   "outputs": [
    {
     "data": {
      "text/plain": [
       "True"
      ]
     },
     "execution_count": 173,
     "metadata": {},
     "output_type": "execute_result"
    }
   ],
   "source": [
    "np.array_equal(checkpoint_strings[\"data\"],loan_data_strings)"
   ]
  },
  {
   "cell_type": "markdown",
   "id": "729ae89c-e922-4c69-a27e-2f4e99aa1700",
   "metadata": {},
   "source": [
    "Numerical Data"
   ]
  },
  {
   "cell_type": "code",
   "execution_count": 174,
   "id": "dae23bfb-e67a-48e4-9fa7-229160541016",
   "metadata": {},
   "outputs": [
    {
     "data": {
      "text/plain": [
       "array([[48010226.  ,    35000.  ,    35000.  ,       13.33,     1184.86,     9452.96],\n",
       "       [57693261.  ,    30000.  ,    30000.  , 68616520.  ,      938.57,     4679.7 ],\n",
       "       [59432726.  ,    15000.  ,    15000.  , 68616520.  ,      494.86,     1969.83],\n",
       "       ...,\n",
       "       [50415990.  ,    10000.  ,    10000.  , 68616520.  , 68616520.  ,     2185.64],\n",
       "       [46154151.  , 68616520.  ,    10000.  ,       16.55,      354.3 ,     3199.4 ],\n",
       "       [66055249.  ,    10000.  ,    10000.  , 68616520.  ,      309.97,      301.9 ]])"
      ]
     },
     "execution_count": 174,
     "metadata": {},
     "output_type": "execute_result"
    }
   ],
   "source": [
    "loan_data_numeric"
   ]
  },
  {
   "cell_type": "code",
   "execution_count": 176,
   "id": "f85be488-6809-4456-9813-07faab9c835f",
   "metadata": {
    "scrolled": true
   },
   "outputs": [
    {
     "data": {
      "text/plain": [
       "0"
      ]
     },
     "execution_count": 176,
     "metadata": {},
     "output_type": "execute_result"
    }
   ],
   "source": [
    "#Technically speaing there aren't any missing values in the array because of temporary_fill\n",
    "np.isnan(loan_data_numeric).sum()"
   ]
  },
  {
   "cell_type": "markdown",
   "id": "4798d259-aa9b-476d-b38e-7c4ef2380112",
   "metadata": {},
   "source": [
    "## Substitute 'filler' values"
   ]
  },
  {
   "cell_type": "code",
   "execution_count": 177,
   "id": "96df60b2-0ccd-4328-a808-adf3405ad24d",
   "metadata": {},
   "outputs": [
    {
     "data": {
      "text/plain": [
       "array(['id', 'loan_amnt', 'funded_amnt', 'int_rate', 'installment', 'total_pymnt'], dtype='<U19')"
      ]
     },
     "execution_count": 177,
     "metadata": {},
     "output_type": "execute_result"
    }
   ],
   "source": [
    "header_numeric"
   ]
  },
  {
   "cell_type": "markdown",
   "id": "ca3760af-6500-41bc-894f-330ced0c82a3",
   "metadata": {},
   "source": [
    "ID"
   ]
  },
  {
   "cell_type": "code",
   "execution_count": 178,
   "id": "69c7d37d-c50e-4f15-af94-51d66a68619f",
   "metadata": {},
   "outputs": [
    {
     "data": {
      "text/plain": [
       "68616520.0"
      ]
     },
     "execution_count": 178,
     "metadata": {},
     "output_type": "execute_result"
    }
   ],
   "source": [
    "temporary_fill"
   ]
  },
  {
   "cell_type": "code",
   "execution_count": 179,
   "id": "91939673-0c90-4244-b0f1-7dced97532e6",
   "metadata": {},
   "outputs": [
    {
     "data": {
      "text/plain": [
       "array([False, False, False, ..., False, False, False])"
      ]
     },
     "execution_count": 179,
     "metadata": {},
     "output_type": "execute_result"
    }
   ],
   "source": [
    "#Let's check if we have filled any missing values in the ID column\n",
    "np.isin(loan_data_numeric[:,0], temporary_fill)"
   ]
  },
  {
   "cell_type": "code",
   "execution_count": 180,
   "id": "b37efe57-16a5-4a6c-b5f3-3f002c52c11e",
   "metadata": {},
   "outputs": [
    {
     "data": {
      "text/plain": [
       "0"
      ]
     },
     "execution_count": 180,
     "metadata": {},
     "output_type": "execute_result"
    }
   ],
   "source": [
    "np.isin(loan_data_numeric[:,0], temporary_fill).sum()"
   ]
  },
  {
   "cell_type": "code",
   "execution_count": 181,
   "id": "c1028e0b-278f-421e-bdac-455f86a12cac",
   "metadata": {},
   "outputs": [
    {
     "data": {
      "text/plain": [
       "array(['id', 'loan_amnt', 'funded_amnt', 'int_rate', 'installment', 'total_pymnt'], dtype='<U19')"
      ]
     },
     "execution_count": 181,
     "metadata": {},
     "output_type": "execute_result"
    }
   ],
   "source": [
    "header_numeric\n"
   ]
  },
  {
   "cell_type": "code",
   "execution_count": null,
   "id": "26fa4b35-3809-4277-8178-63b8f653ae7d",
   "metadata": {},
   "outputs": [],
   "source": [
    "#Funded_amnt missing entries have to be substituted with the lowest recorded values\n",
    "# loan_amnt, int_rate,installment, total_pymnt missing entries need to be replaced with maximum recorded values\n",
    "\n"
   ]
  },
  {
   "cell_type": "markdown",
   "id": "893fa6c9-11ee-4b0d-8946-ffb6971efbe8",
   "metadata": {},
   "source": [
    "## Temporary Stats"
   ]
  },
  {
   "cell_type": "code",
   "execution_count": 182,
   "id": "89f27392-203f-413b-849b-97238aa02581",
   "metadata": {},
   "outputs": [
    {
     "data": {
      "text/plain": [
       "array([[  373332.  ,         nan,     1000.  ,         nan,     1000.  ,         nan,        6.  ,\n",
       "              31.42,         nan,         nan,         nan,         nan,         nan,        0.  ],\n",
       "       [54015809.19,         nan,    15273.46,         nan,    15311.04,         nan,       16.62,\n",
       "             440.92,         nan,         nan,         nan,         nan,         nan,     3143.85],\n",
       "       [68616519.  ,         nan,    35000.  ,         nan,    35000.  ,         nan,       28.99,\n",
       "            1372.97,         nan,         nan,         nan,         nan,         nan,    41913.62]])"
      ]
     },
     "execution_count": 182,
     "metadata": {},
     "output_type": "execute_result"
    }
   ],
   "source": [
    "temporary_stats"
   ]
  },
  {
   "cell_type": "code",
   "execution_count": 188,
   "id": "668f2c39-924e-4c0f-9f82-d22b3944fd2c",
   "metadata": {},
   "outputs": [
    {
     "data": {
      "text/plain": [
       "array([[  373332.  ,     1000.  ,     1000.  ,        6.  ,       31.42,        0.  ],\n",
       "       [54015809.19,    15273.46,    15311.04,       16.62,      440.92,     3143.85],\n",
       "       [68616519.  ,    35000.  ,    35000.  ,       28.99,     1372.97,    41913.62]])"
      ]
     },
     "execution_count": 188,
     "metadata": {},
     "output_type": "execute_result"
    }
   ],
   "source": [
    "temporary_stats[:,columns_numeric]"
   ]
  },
  {
   "cell_type": "markdown",
   "id": "f5678f44-b6d8-40d3-9d35-339cb47687ee",
   "metadata": {},
   "source": [
    "## Funded Amount"
   ]
  },
  {
   "cell_type": "code",
   "execution_count": 194,
   "id": "7465cb24-01ed-4485-b47c-991b5df1ee73",
   "metadata": {},
   "outputs": [
    {
     "data": {
      "text/plain": [
       "array([35000., 30000., 15000., ..., 10000., 10000., 10000.])"
      ]
     },
     "execution_count": 194,
     "metadata": {},
     "output_type": "execute_result"
    }
   ],
   "source": [
    "loan_data_numeric[:,2]"
   ]
  },
  {
   "cell_type": "code",
   "execution_count": 196,
   "id": "12ac4b0b-6ffd-49c3-8681-45198a808b22",
   "metadata": {},
   "outputs": [
    {
     "data": {
      "text/plain": [
       "array([35000., 30000., 15000., ..., 10000., 10000., 10000.])"
      ]
     },
     "execution_count": 196,
     "metadata": {},
     "output_type": "execute_result"
    }
   ],
   "source": [
    "loan_data_numeric[:,2] = np.where(loan_data_numeric[:,2] == temporary_fill,\n",
    "                                 temporary_stats[0, columns_numeric[2]],\n",
    "                                 loan_data_numeric[:,2])\n",
    "loan_data_numeric[:,2]"
   ]
  },
  {
   "cell_type": "code",
   "execution_count": 198,
   "id": "e7d74bb9-99e8-4e94-af32-2f404b230d19",
   "metadata": {},
   "outputs": [
    {
     "data": {
      "text/plain": [
       "6.0"
      ]
     },
     "execution_count": 198,
     "metadata": {},
     "output_type": "execute_result"
    }
   ],
   "source": [
    "temporary_stats[0, columns_numeric[3]]"
   ]
  },
  {
   "cell_type": "markdown",
   "id": "8d4e82ae-5286-42e5-a5fe-ba08bd05509f",
   "metadata": {},
   "source": [
    "## Loaned Amount, Interest Rate, Total Payment, Installment"
   ]
  },
  {
   "cell_type": "code",
   "execution_count": 199,
   "id": "215e42af-a8dc-49ba-ae41-727b0f906c21",
   "metadata": {},
   "outputs": [
    {
     "data": {
      "text/plain": [
       "array(['id', 'loan_amnt', 'funded_amnt', 'int_rate', 'installment', 'total_pymnt'], dtype='<U19')"
      ]
     },
     "execution_count": 199,
     "metadata": {},
     "output_type": "execute_result"
    }
   ],
   "source": [
    "header_numeric"
   ]
  },
  {
   "cell_type": "code",
   "execution_count": 200,
   "id": "fb97e2f9-51b4-43af-bb47-2f15337cbbf0",
   "metadata": {},
   "outputs": [],
   "source": [
    "for i in [1, 3, 4, 5]:\n",
    "    loan_data_numeric[:,i] = np.where(loan_data_numeric[:,i] == temporary_fill,\n",
    "                                 temporary_stats[2, columns_numeric[i]],\n",
    "                                 loan_data_numeric[:,i])"
   ]
  },
  {
   "cell_type": "code",
   "execution_count": 201,
   "id": "e654c2f0-94c2-45fa-8263-5d14a30723fa",
   "metadata": {},
   "outputs": [
    {
     "data": {
      "text/plain": [
       "array([[48010226.  ,    35000.  ,    35000.  ,       13.33,     1184.86,     9452.96],\n",
       "       [57693261.  ,    30000.  ,    30000.  ,       28.99,      938.57,     4679.7 ],\n",
       "       [59432726.  ,    15000.  ,    15000.  ,       28.99,      494.86,     1969.83],\n",
       "       ...,\n",
       "       [50415990.  ,    10000.  ,    10000.  ,       28.99,     1372.97,     2185.64],\n",
       "       [46154151.  ,    35000.  ,    10000.  ,       16.55,      354.3 ,     3199.4 ],\n",
       "       [66055249.  ,    10000.  ,    10000.  ,       28.99,      309.97,      301.9 ]])"
      ]
     },
     "execution_count": 201,
     "metadata": {},
     "output_type": "execute_result"
    }
   ],
   "source": [
    "loan_data_numeric"
   ]
  },
  {
   "cell_type": "markdown",
   "id": "fa4dc85e-487d-456e-b2bc-617ec75b6687",
   "metadata": {},
   "source": [
    "Currency Exchange"
   ]
  },
  {
   "cell_type": "markdown",
   "id": "d26383ea-c63a-4174-85af-5167fbff7bb8",
   "metadata": {},
   "source": [
    "The exchange rate"
   ]
  },
  {
   "cell_type": "code",
   "execution_count": 207,
   "id": "8ef4778e-bde5-4acf-bc4b-bbfcc28d9eab",
   "metadata": {},
   "outputs": [
    {
     "data": {
      "text/plain": [
       "array([[ nan,  nan,  nan,  nan,  nan],\n",
       "       [1.21, 1.21, 1.11, 1.13, 0.  ],\n",
       "       [1.13, 1.15, 1.12, 1.12, 0.  ],\n",
       "       [1.12, 1.12, 1.05, 1.08, 0.  ],\n",
       "       [1.07, 1.12, 1.05, 1.11, 0.  ],\n",
       "       [1.12, 1.15, 1.08, 1.1 , 0.  ],\n",
       "       [1.1 , 1.14, 1.09, 1.12, 0.  ],\n",
       "       [1.11, 1.12, 1.08, 1.09, 0.  ],\n",
       "       [1.1 , 1.17, 1.09, 1.13, 0.  ],\n",
       "       [1.12, 1.15, 1.11, 1.13, 0.  ],\n",
       "       [1.12, 1.15, 1.09, 1.1 , 0.  ],\n",
       "       [1.1 , 1.11, 1.06, 1.06, 0.  ],\n",
       "       [1.06, 1.11, 1.05, 1.09, 0.  ]])"
      ]
     },
     "execution_count": 207,
     "metadata": {},
     "output_type": "execute_result"
    }
   ],
   "source": [
    "EUR_USD = np.genfromtxt(\"EUR-USD.csv\", delimiter = ',', autostrip = True)\n",
    "EUR_USD"
   ]
  },
  {
   "cell_type": "code",
   "execution_count": 208,
   "id": "fcfca21d-8f7d-4d60-a686-6f3ac3a1cf82",
   "metadata": {},
   "outputs": [
    {
     "data": {
      "text/plain": [
       "array([['Open', 'High', 'Low', 'Close', 'Volume'],\n",
       "       ['1.2098628282546997', '1.2098628282546997', '1.11055588722229', '1.1287955045700073', '0'],\n",
       "       ['1.1287955045700073', '1.1484194993972778', '1.117680549621582', '1.1205360889434814',\n",
       "        '0'],\n",
       "       ['1.119795799255371', '1.1240400075912476', '1.0460032224655151', '1.0830246210098267',\n",
       "        '0'],\n",
       "       ['1.0741022825241089', '1.1247594356536865', '1.0521597862243652', '1.1114321947097778',\n",
       "        '0'],\n",
       "       ['1.1215037107467651', '1.145304799079895', '1.0821995735168457', '1.0960345268249512',\n",
       "        '0'],\n",
       "       ['1.095902442932129', '1.1428401470184326', '1.0888904333114624', '1.122296690940857', '0'],\n",
       "       ['1.1134989261627197', '1.1219995021820068', '1.081270456314087', '1.0939244031906128',\n",
       "        '0'],\n",
       "       ['1.0969001054763794', '1.1705996990203857', '1.0850305557250977', '1.1340054273605347',\n",
       "        '0'],\n",
       "       ['1.1225990056991577', '1.1460003852844238', '1.1089695692062378', '1.1255937814712524',\n",
       "        '0'],\n",
       "       ['1.1171561479568481', '1.1494200229644775', '1.0910003185272217', '1.100897192955017',\n",
       "        '0'],\n",
       "       ['1.1024993658065796', '1.1060001850128174', '1.056400179862976', '1.0583018064498901',\n",
       "        '0'],\n",
       "       ['1.0572947263717651', '1.107000470161438', '1.0541995763778687', '1.093398094177246', '0']],\n",
       "      dtype='<U18')"
      ]
     },
     "execution_count": 208,
     "metadata": {},
     "output_type": "execute_result"
    }
   ],
   "source": [
    "EUR_USD = np.genfromtxt(\"EUR-USD.csv\", delimiter = ',', autostrip = True, dtype = np.str_)\n",
    "EUR_USD"
   ]
  },
  {
   "cell_type": "code",
   "execution_count": null,
   "id": "367167c8-96af-4fa5-9f34-3632d1b382e0",
   "metadata": {},
   "outputs": [],
   "source": []
  },
  {
   "cell_type": "code",
   "execution_count": 209,
   "id": "fa1ceaa9-7b97-4e87-8412-76ae26378bc6",
   "metadata": {},
   "outputs": [
    {
     "data": {
      "text/plain": [
       "array([1.13, 1.12, 1.08, 1.11, 1.1 , 1.12, 1.09, 1.13, 1.13, 1.1 , 1.06, 1.09])"
      ]
     },
     "execution_count": 209,
     "metadata": {},
     "output_type": "execute_result"
    }
   ],
   "source": [
    "EUR_USD = np.genfromtxt(\"EUR-USD.csv\", delimiter = ',', autostrip = True, skip_header = 1, usecols = 3)\n",
    "EUR_USD"
   ]
  },
  {
   "cell_type": "code",
   "execution_count": 214,
   "id": "3d286907-2328-42b7-acb3-849484c7a159",
   "metadata": {},
   "outputs": [
    {
     "data": {
      "text/plain": [
       "array([ 5,  0,  9, ...,  6,  4, 12])"
      ]
     },
     "execution_count": 214,
     "metadata": {},
     "output_type": "execute_result"
    }
   ],
   "source": [
    "#Excahnge rate value must match the month the loan was issued.\n",
    "# Issue date is the first column from loan_data_strings dataset\n",
    "loan_data_strings[:,0]"
   ]
  },
  {
   "cell_type": "code",
   "execution_count": 215,
   "id": "1e4aa05e-c915-4a49-8d87-b159ca75785d",
   "metadata": {},
   "outputs": [
    {
     "data": {
      "text/plain": [
       "array([1.1 , 1.11, 1.13, ..., 1.12, 1.11, 1.09])"
      ]
     },
     "execution_count": 215,
     "metadata": {},
     "output_type": "execute_result"
    }
   ],
   "source": [
    "exchange_rate = loan_data_strings[:,0]\n",
    "\n",
    "for i in range(1,13):\n",
    "    exchange_rate = np.where(exchange_rate == i,\n",
    "                             EUR_USD[i-1],\n",
    "                             exchange_rate)    \n",
    "\n",
    "exchange_rate = np.where(exchange_rate == 0,\n",
    "                         np.mean(EUR_USD),\n",
    "                         exchange_rate)\n",
    "\n",
    "exchange_rate"
   ]
  },
  {
   "cell_type": "code",
   "execution_count": 223,
   "id": "0d503845-ca12-4f59-b68f-6d115ad88cda",
   "metadata": {},
   "outputs": [
    {
     "data": {
      "text/plain": [
       "(10000, 1)"
      ]
     },
     "execution_count": 223,
     "metadata": {},
     "output_type": "execute_result"
    }
   ],
   "source": [
    "#Exchange rate column must be added to the numeric data\n",
    "#check for compatability of the two arrays\n",
    "exchange_rate.shape"
   ]
  },
  {
   "cell_type": "code",
   "execution_count": 222,
   "id": "bd97a828-3495-448b-8b70-306be4c79ab1",
   "metadata": {},
   "outputs": [
    {
     "data": {
      "text/plain": [
       "(10000, 7)"
      ]
     },
     "execution_count": 222,
     "metadata": {},
     "output_type": "execute_result"
    }
   ],
   "source": [
    "loan_data_numeric.shape"
   ]
  },
  {
   "cell_type": "code",
   "execution_count": 218,
   "id": "0d8eadd2-30c4-4f55-a2ab-093d9ed7aa03",
   "metadata": {},
   "outputs": [],
   "source": [
    "exchange_rate = np.reshape(exchange_rate, (10000,1))"
   ]
  },
  {
   "cell_type": "code",
   "execution_count": 219,
   "id": "3d5036c9-38c4-424f-9aca-3d3a9e58357e",
   "metadata": {},
   "outputs": [],
   "source": [
    "loan_data_numeric = np.hstack((loan_data_numeric, exchange_rate))"
   ]
  },
  {
   "cell_type": "code",
   "execution_count": 220,
   "id": "3a06f80f-3b34-4af6-b9d7-b57753c20f44",
   "metadata": {},
   "outputs": [
    {
     "data": {
      "text/plain": [
       "array(['id', 'loan_amnt', 'funded_amnt', 'int_rate', 'installment', 'total_pymnt', 'exchange_rate'],\n",
       "      dtype='<U19')"
      ]
     },
     "execution_count": 220,
     "metadata": {},
     "output_type": "execute_result"
    }
   ],
   "source": [
    "header_numeric = np.concatenate((header_numeric, np.array(['exchange_rate'])))\n",
    "header_numeric"
   ]
  },
  {
   "cell_type": "code",
   "execution_count": 225,
   "id": "2012a2e5-4ac5-424f-8a6c-ce84ce95196f",
   "metadata": {},
   "outputs": [
    {
     "data": {
      "text/plain": [
       "array(['id', 'loan_amnt', 'funded_amnt', 'int_rate', 'installment', 'total_pymnt', 'exchange_rate'],\n",
       "      dtype='<U19')"
      ]
     },
     "execution_count": 225,
     "metadata": {},
     "output_type": "execute_result"
    }
   ],
   "source": [
    "header_numeric"
   ]
  },
  {
   "cell_type": "markdown",
   "id": "243846ea-98cb-4e42-a02c-428ad78bf8a3",
   "metadata": {},
   "source": [
    "## FROM USD to EUR"
   ]
  },
  {
   "cell_type": "code",
   "execution_count": 226,
   "id": "a5c312bc-aa2d-4f42-8aee-15db5b8115ca",
   "metadata": {},
   "outputs": [
    {
     "data": {
      "text/plain": [
       "array(['id', 'loan_amnt', 'funded_amnt', 'int_rate', 'installment', 'total_pymnt', 'exchange_rate'],\n",
       "      dtype='<U19')"
      ]
     },
     "execution_count": 226,
     "metadata": {},
     "output_type": "execute_result"
    }
   ],
   "source": [
    "header_numeric"
   ]
  },
  {
   "cell_type": "code",
   "execution_count": 231,
   "id": "1be27fdf-3b9e-4f97-8c4e-19d97d0742fe",
   "metadata": {},
   "outputs": [],
   "source": [
    "columns_dollar = np.array([1,2,4,5])"
   ]
  },
  {
   "cell_type": "code",
   "execution_count": 232,
   "id": "9dc5d81e-fa40-450f-bbdc-5d0c47b352e6",
   "metadata": {},
   "outputs": [
    {
     "data": {
      "text/plain": [
       "array([[[35000.  , 35000.  ,  1184.86,  9452.96]],\n",
       "\n",
       "       [[30000.  , 30000.  ,   938.57,  4679.7 ]],\n",
       "\n",
       "       [[15000.  , 15000.  ,   494.86,  1969.83]],\n",
       "\n",
       "       ...,\n",
       "\n",
       "       [[10000.  , 10000.  ,  1372.97,  2185.64]],\n",
       "\n",
       "       [[35000.  , 10000.  ,   354.3 ,  3199.4 ]],\n",
       "\n",
       "       [[10000.  , 10000.  ,   309.97,   301.9 ]]])"
      ]
     },
     "execution_count": 232,
     "metadata": {},
     "output_type": "execute_result"
    }
   ],
   "source": [
    "loan_data_numeric[:,[columns_dollars]]"
   ]
  },
  {
   "cell_type": "code",
   "execution_count": 233,
   "id": "1b6a6d16-c1b6-4d7f-a6eb-64e2c180d3f4",
   "metadata": {},
   "outputs": [
    {
     "data": {
      "text/plain": [
       "array([1.1 , 1.11, 1.13, ..., 1.12, 1.11, 1.09])"
      ]
     },
     "execution_count": 233,
     "metadata": {},
     "output_type": "execute_result"
    }
   ],
   "source": [
    "loan_data_numeric[:,6]"
   ]
  },
  {
   "cell_type": "code",
   "execution_count": 234,
   "id": "cef0b5fb-d43d-4991-b75b-fb7f81ffdd54",
   "metadata": {},
   "outputs": [],
   "source": [
    "for i in columns_dollar:\n",
    "    loan_data_numeric = np.hstack((loan_data_numeric, np.reshape(loan_data_numeric[:,i] / loan_data_numeric[:,6], (10000,1))))"
   ]
  },
  {
   "cell_type": "code",
   "execution_count": 235,
   "id": "6f0f3ac5-5776-4360-bba8-bc8b71c93970",
   "metadata": {},
   "outputs": [
    {
     "data": {
      "text/plain": [
       "array([[48010226.  ,    35000.  ,    35000.  , ...,    31933.3 ,     1081.04,     8624.69],\n",
       "       [57693261.  ,    30000.  ,    30000.  , ...,    27132.46,      848.86,     4232.39],\n",
       "       [59432726.  ,    15000.  ,    15000.  , ...,    13326.3 ,      439.64,     1750.04],\n",
       "       ...,\n",
       "       [50415990.  ,    10000.  ,    10000.  , ...,     8910.3 ,     1223.36,     1947.47],\n",
       "       [46154151.  ,    35000.  ,    10000.  , ...,     8997.4 ,      318.78,     2878.63],\n",
       "       [66055249.  ,    10000.  ,    10000.  , ...,     9145.8 ,      283.49,      276.11]])"
      ]
     },
     "execution_count": 235,
     "metadata": {},
     "output_type": "execute_result"
    }
   ],
   "source": [
    "loan_data_numeric"
   ]
  },
  {
   "cell_type": "code",
   "execution_count": 236,
   "id": "321441ec-8a4f-4aac-bf6a-23d2fbf991b3",
   "metadata": {},
   "outputs": [
    {
     "data": {
      "text/plain": [
       "(10000, 11)"
      ]
     },
     "execution_count": 236,
     "metadata": {},
     "output_type": "execute_result"
    }
   ],
   "source": [
    "loan_data_numeric.shape"
   ]
  },
  {
   "cell_type": "markdown",
   "id": "012f91f8-d50e-4d59-92a2-5a3ee328cb60",
   "metadata": {},
   "source": [
    "## Expanding the header"
   ]
  },
  {
   "cell_type": "code",
   "execution_count": 238,
   "id": "54bf6ee5-a08d-4d27-92a1-234c78a2a731",
   "metadata": {},
   "outputs": [],
   "source": [
    "header_additional = np.array([column_name + '_EUR' for column_name in header_numeric[columns_dollar]])"
   ]
  },
  {
   "cell_type": "code",
   "execution_count": 239,
   "id": "54567eba-b106-458f-90e4-498bda9006bd",
   "metadata": {},
   "outputs": [
    {
     "data": {
      "text/plain": [
       "array(['loan_amnt_EUR', 'funded_amnt_EUR', 'installment_EUR', 'total_pymnt_EUR'], dtype='<U15')"
      ]
     },
     "execution_count": 239,
     "metadata": {},
     "output_type": "execute_result"
    }
   ],
   "source": [
    "header_additional"
   ]
  },
  {
   "cell_type": "code",
   "execution_count": 240,
   "id": "56fd9654-2a12-4499-99f1-6cd0ab51beed",
   "metadata": {},
   "outputs": [],
   "source": [
    "header_numeric = np.concatenate((header_numeric, header_additional))"
   ]
  },
  {
   "cell_type": "code",
   "execution_count": 241,
   "id": "09fd7e57-154f-4dfe-8604-e1e934698473",
   "metadata": {},
   "outputs": [
    {
     "data": {
      "text/plain": [
       "array(['id', 'loan_amnt', 'funded_amnt', 'int_rate', 'installment', 'total_pymnt', 'exchange_rate',\n",
       "       'loan_amnt_EUR', 'funded_amnt_EUR', 'installment_EUR', 'total_pymnt_EUR'], dtype='<U19')"
      ]
     },
     "execution_count": 241,
     "metadata": {},
     "output_type": "execute_result"
    }
   ],
   "source": [
    "header_numeric"
   ]
  },
  {
   "cell_type": "code",
   "execution_count": 242,
   "id": "ab7a0566-87e2-4276-be3c-e19722c9653f",
   "metadata": {},
   "outputs": [],
   "source": [
    "header_numeric[columns_dollar] = np.array([column_name + '_USD' for column_name in header_numeric[columns_dollar]])"
   ]
  },
  {
   "cell_type": "code",
   "execution_count": 243,
   "id": "409d9032-9432-4f42-a5f3-547a387c46a8",
   "metadata": {},
   "outputs": [
    {
     "data": {
      "text/plain": [
       "array(['id', 'loan_amnt_USD', 'funded_amnt_USD', 'int_rate', 'installment_USD', 'total_pymnt_USD',\n",
       "       'exchange_rate', 'loan_amnt_EUR', 'funded_amnt_EUR', 'installment_EUR', 'total_pymnt_EUR'],\n",
       "      dtype='<U19')"
      ]
     },
     "execution_count": 243,
     "metadata": {},
     "output_type": "execute_result"
    }
   ],
   "source": [
    "header_numeric"
   ]
  },
  {
   "cell_type": "code",
   "execution_count": 244,
   "id": "be380cde-3f42-4d8d-9ced-b687c46f1b5f",
   "metadata": {},
   "outputs": [],
   "source": [
    "columns_index_order = [0,1,7,2,8,3,4,9,5,10,6]"
   ]
  },
  {
   "cell_type": "code",
   "execution_count": 245,
   "id": "1c5d79be-cc6f-46d4-8455-b4a00fd43672",
   "metadata": {},
   "outputs": [],
   "source": [
    "header_numeric = header_numeric[columns_index_order]"
   ]
  },
  {
   "cell_type": "code",
   "execution_count": 246,
   "id": "09e21829-9eb3-47dd-9d56-f5baeaad543e",
   "metadata": {},
   "outputs": [
    {
     "data": {
      "text/plain": [
       "array([[48010226.  ,    35000.  ,    35000.  , ...,    31933.3 ,     1081.04,     8624.69],\n",
       "       [57693261.  ,    30000.  ,    30000.  , ...,    27132.46,      848.86,     4232.39],\n",
       "       [59432726.  ,    15000.  ,    15000.  , ...,    13326.3 ,      439.64,     1750.04],\n",
       "       ...,\n",
       "       [50415990.  ,    10000.  ,    10000.  , ...,     8910.3 ,     1223.36,     1947.47],\n",
       "       [46154151.  ,    35000.  ,    10000.  , ...,     8997.4 ,      318.78,     2878.63],\n",
       "       [66055249.  ,    10000.  ,    10000.  , ...,     9145.8 ,      283.49,      276.11]])"
      ]
     },
     "execution_count": 246,
     "metadata": {},
     "output_type": "execute_result"
    }
   ],
   "source": [
    "loan_data_numeric"
   ]
  },
  {
   "cell_type": "markdown",
   "id": "4b05cf0c-9f84-42cf-9aaa-2fbcab1f3624",
   "metadata": {},
   "source": [
    "## Interest Rate"
   ]
  },
  {
   "cell_type": "code",
   "execution_count": 250,
   "id": "10c52805-a35d-4056-b39d-6247b44f015c",
   "metadata": {},
   "outputs": [
    {
     "data": {
      "text/plain": [
       "array(['id', 'loan_amnt_USD', 'loan_amnt_EUR', 'funded_amnt_USD', 'funded_amnt_EUR', 'int_rate',\n",
       "       'installment_USD', 'installment_EUR', 'total_pymnt_USD', 'total_pymnt_EUR', 'exchange_rate'],\n",
       "      dtype='<U19')"
      ]
     },
     "execution_count": 250,
     "metadata": {},
     "output_type": "execute_result"
    }
   ],
   "source": [
    "header_numeric"
   ]
  },
  {
   "cell_type": "code",
   "execution_count": 253,
   "id": "513982b7-9606-411a-a63e-4e8a57d00594",
   "metadata": {},
   "outputs": [
    {
     "data": {
      "text/plain": [
       "array([13.33, 28.99, 28.99, ..., 28.99, 16.55, 28.99])"
      ]
     },
     "execution_count": 253,
     "metadata": {},
     "output_type": "execute_result"
    }
   ],
   "source": [
    "loan_data_numeric[:,5]"
   ]
  },
  {
   "cell_type": "code",
   "execution_count": 254,
   "id": "8634e578-b84b-4f0e-ab69-efbd2632a960",
   "metadata": {},
   "outputs": [],
   "source": [
    "loan_data_numeric[:,5] = loan_data_numeric[:,5]/100"
   ]
  },
  {
   "cell_type": "code",
   "execution_count": 255,
   "id": "0d5664a7-afc7-44dd-b14d-6f5e93eaf6b7",
   "metadata": {},
   "outputs": [
    {
     "data": {
      "text/plain": [
       "array([0.13, 0.29, 0.29, ..., 0.29, 0.17, 0.29])"
      ]
     },
     "execution_count": 255,
     "metadata": {},
     "output_type": "execute_result"
    }
   ],
   "source": [
    "loan_data_numeric[:,5]"
   ]
  },
  {
   "cell_type": "markdown",
   "id": "102325f6-84b0-43d3-8747-16a1e271ab97",
   "metadata": {},
   "source": [
    "## Checkpoint 2: Numeric"
   ]
  },
  {
   "cell_type": "code",
   "execution_count": 256,
   "id": "e56f6004-1f6c-45f7-9701-a5673a58591a",
   "metadata": {},
   "outputs": [],
   "source": [
    "checkpoint_numeric = checkpoint(\"Checkpoint-Numeric\", header_numeric, loan_data_numeric)"
   ]
  },
  {
   "cell_type": "code",
   "execution_count": 257,
   "id": "96092178-bbb0-47a1-9bf2-78120d8d0ee4",
   "metadata": {},
   "outputs": [
    {
     "data": {
      "text/plain": [
       "(array(['id', 'loan_amnt_USD', 'loan_amnt_EUR', 'funded_amnt_USD', 'funded_amnt_EUR', 'int_rate',\n",
       "        'installment_USD', 'installment_EUR', 'total_pymnt_USD', 'total_pymnt_EUR', 'exchange_rate'],\n",
       "       dtype='<U19'),\n",
       " array([[48010226.  ,    35000.  ,    31933.3 , ...,     9452.96,     8624.69,        1.1 ],\n",
       "        [57693261.  ,    30000.  ,    27132.46, ...,     4679.7 ,     4232.39,        1.11],\n",
       "        [59432726.  ,    15000.  ,    13326.3 , ...,     1969.83,     1750.04,        1.13],\n",
       "        ...,\n",
       "        [50415990.  ,    10000.  ,     8910.3 , ...,     2185.64,     1947.47,        1.12],\n",
       "        [46154151.  ,    35000.  ,    31490.9 , ...,     3199.4 ,     2878.63,        1.11],\n",
       "        [66055249.  ,    10000.  ,     9145.8 , ...,      301.9 ,      276.11,        1.09]]))"
      ]
     },
     "execution_count": 257,
     "metadata": {},
     "output_type": "execute_result"
    }
   ],
   "source": [
    "checkpoint_numeric['header'], checkpoint_numeric['data']"
   ]
  },
  {
   "cell_type": "markdown",
   "id": "87563d7a-fa1d-427c-bc0e-442f27dc17ed",
   "metadata": {},
   "source": [
    "## Creating the \"Complete\" Dataset"
   ]
  },
  {
   "cell_type": "code",
   "execution_count": 265,
   "id": "6e429101-1e28-4752-be16-5fd7712fd2e3",
   "metadata": {},
   "outputs": [
    {
     "data": {
      "text/plain": [
       "(10000, 11)"
      ]
     },
     "execution_count": 265,
     "metadata": {},
     "output_type": "execute_result"
    }
   ],
   "source": [
    "#Let's check our datasets for compatibility in terms of stacking\n",
    "loan_data_numeric.shape"
   ]
  },
  {
   "cell_type": "code",
   "execution_count": 266,
   "id": "4c77c952-acbd-43ce-b736-c2b03eda7512",
   "metadata": {},
   "outputs": [
    {
     "data": {
      "text/plain": [
       "(10000, 6)"
      ]
     },
     "execution_count": 266,
     "metadata": {},
     "output_type": "execute_result"
    }
   ],
   "source": [
    "loan_data_strings.shape"
   ]
  },
  {
   "cell_type": "markdown",
   "id": "b841327d-d476-4b73-a820-a9c05e34184f",
   "metadata": {},
   "source": [
    "## Safer option to check is to use checkpoint files"
   ]
  },
  {
   "cell_type": "code",
   "execution_count": 267,
   "id": "92515083-aff8-4ad6-abe4-dca47a3d10d2",
   "metadata": {},
   "outputs": [
    {
     "data": {
      "text/plain": [
       "(10000, 6)"
      ]
     },
     "execution_count": 267,
     "metadata": {},
     "output_type": "execute_result"
    }
   ],
   "source": [
    "checkpoint_strings['data'].shape"
   ]
  },
  {
   "cell_type": "code",
   "execution_count": 268,
   "id": "b7f0c33a-8113-4b5f-9a1d-59a10f5ad897",
   "metadata": {},
   "outputs": [
    {
     "data": {
      "text/plain": [
       "(10000, 11)"
      ]
     },
     "execution_count": 268,
     "metadata": {},
     "output_type": "execute_result"
    }
   ],
   "source": [
    "checkpoint_numeric['data'].shape"
   ]
  },
  {
   "cell_type": "code",
   "execution_count": 269,
   "id": "d9818442-ef97-4eee-90dc-11b3d93797de",
   "metadata": {},
   "outputs": [
    {
     "data": {
      "text/plain": [
       "array([[48010226.  ,    35000.  ,    31933.3 , ...,       13.  ,        1.  ,        1.  ],\n",
       "       [57693261.  ,    30000.  ,    27132.46, ...,        5.  ,        1.  ,        4.  ],\n",
       "       [59432726.  ,    15000.  ,    13326.3 , ...,       10.  ,        1.  ,        4.  ],\n",
       "       ...,\n",
       "       [50415990.  ,    10000.  ,     8910.3 , ...,        5.  ,        1.  ,        1.  ],\n",
       "       [46154151.  ,    35000.  ,    31490.9 , ...,       17.  ,        1.  ,        3.  ],\n",
       "       [66055249.  ,    10000.  ,     9145.8 , ...,        4.  ,        0.  ,        3.  ]])"
      ]
     },
     "execution_count": 269,
     "metadata": {},
     "output_type": "execute_result"
    }
   ],
   "source": [
    "#Datasets contain the same number of rows so they can be horizontally stacked\n",
    "np.hstack((checkpoint_numeric['data'], checkpoint_strings['data']))"
   ]
  },
  {
   "cell_type": "code",
   "execution_count": 270,
   "id": "2f9bbf30-941a-4bb9-be90-4124d35946bc",
   "metadata": {},
   "outputs": [
    {
     "data": {
      "text/plain": [
       "(10000, 17)"
      ]
     },
     "execution_count": 270,
     "metadata": {},
     "output_type": "execute_result"
    }
   ],
   "source": [
    "np.hstack((checkpoint_numeric['data'], checkpoint_strings['data'])).shape"
   ]
  },
  {
   "cell_type": "code",
   "execution_count": 271,
   "id": "1b6bdd48-6688-46f8-b9b0-ea4359223cda",
   "metadata": {},
   "outputs": [],
   "source": [
    "loan_data = np.hstack((checkpoint_numeric['data'], checkpoint_strings['data']))"
   ]
  },
  {
   "cell_type": "code",
   "execution_count": 272,
   "id": "4ccced8a-cc26-4c1a-81e0-54c752172dff",
   "metadata": {},
   "outputs": [
    {
     "data": {
      "text/plain": [
       "array([[48010226.  ,    35000.  ,    31933.3 , ...,       13.  ,        1.  ,        1.  ],\n",
       "       [57693261.  ,    30000.  ,    27132.46, ...,        5.  ,        1.  ,        4.  ],\n",
       "       [59432726.  ,    15000.  ,    13326.3 , ...,       10.  ,        1.  ,        4.  ],\n",
       "       ...,\n",
       "       [50415990.  ,    10000.  ,     8910.3 , ...,        5.  ,        1.  ,        1.  ],\n",
       "       [46154151.  ,    35000.  ,    31490.9 , ...,       17.  ,        1.  ,        3.  ],\n",
       "       [66055249.  ,    10000.  ,     9145.8 , ...,        4.  ,        0.  ,        3.  ]])"
      ]
     },
     "execution_count": 272,
     "metadata": {},
     "output_type": "execute_result"
    }
   ],
   "source": [
    "loan_data\n"
   ]
  },
  {
   "cell_type": "code",
   "execution_count": 273,
   "id": "d8af0612-da68-44a4-af94-3b61e9b68f04",
   "metadata": {},
   "outputs": [
    {
     "data": {
      "text/plain": [
       "0"
      ]
     },
     "execution_count": 273,
     "metadata": {},
     "output_type": "execute_result"
    }
   ],
   "source": [
    "#Let's check for missing values \n",
    "#We expect to see O since we took care of them earlier in the practical example\n",
    "np.isnan(loan_data).sum()"
   ]
  },
  {
   "cell_type": "code",
   "execution_count": 274,
   "id": "23ff47e4-8905-4e99-aa4e-e03c43504702",
   "metadata": {},
   "outputs": [
    {
     "data": {
      "text/plain": [
       "array(['id', 'loan_amnt_USD', 'loan_amnt_EUR', 'funded_amnt_USD', 'funded_amnt_EUR', 'int_rate',\n",
       "       'installment_USD', 'installment_EUR', 'total_pymnt_USD', 'total_pymnt_EUR', 'exchange_rate',\n",
       "       'issue_date', 'loan_status', 'term_months', 'sub_grade', 'verification_status',\n",
       "       'state_address'], dtype='<U19')"
      ]
     },
     "execution_count": 274,
     "metadata": {},
     "output_type": "execute_result"
    }
   ],
   "source": [
    "np.concatenate((checkpoint_numeric['header'], checkpoint_strings['header']))"
   ]
  },
  {
   "cell_type": "code",
   "execution_count": 278,
   "id": "ce4d6c5f-adcb-4a09-8f3f-6d09981c8134",
   "metadata": {},
   "outputs": [],
   "source": [
    "header_full_new = np.concatenate((checkpoint_numeric['header'], checkpoint_strings['header']))"
   ]
  },
  {
   "cell_type": "code",
   "execution_count": 279,
   "id": "2ef18dab-adc9-4b2c-801e-0d7ec5242ab2",
   "metadata": {},
   "outputs": [
    {
     "data": {
      "text/plain": [
       "array(['id', 'loan_amnt_USD', 'loan_amnt_EUR', 'funded_amnt_USD', 'funded_amnt_EUR', 'int_rate',\n",
       "       'installment_USD', 'installment_EUR', 'total_pymnt_USD', 'total_pymnt_EUR', 'exchange_rate',\n",
       "       'issue_date', 'loan_status', 'term_months', 'sub_grade', 'verification_status',\n",
       "       'state_address'], dtype='<U19')"
      ]
     },
     "execution_count": 279,
     "metadata": {},
     "output_type": "execute_result"
    }
   ],
   "source": [
    "header_full_new"
   ]
  },
  {
   "cell_type": "markdown",
   "id": "4d0899c7-3fa5-4dc2-b4ca-6796898137b4",
   "metadata": {},
   "source": [
    "## Sorting the new dataset"
   ]
  },
  {
   "cell_type": "code",
   "execution_count": 284,
   "id": "25a9903b-77f6-404a-bb49-de71d6ab3ed6",
   "metadata": {},
   "outputs": [
    {
     "data": {
      "text/plain": [
       "array([  373332.,   575239.,   707689., ..., 68614880., 68615915., 68616519.])"
      ]
     },
     "execution_count": 284,
     "metadata": {},
     "output_type": "execute_result"
    }
   ],
   "source": [
    "#Last step let's sort using the first 'id' column from loan_data\n",
    "np.sort(loan_data[:,0])"
   ]
  },
  {
   "cell_type": "code",
   "execution_count": 285,
   "id": "ccf65c85-ae66-473e-8e87-9151598b7bbe",
   "metadata": {},
   "outputs": [
    {
     "data": {
      "text/plain": [
       "array([[  373332.  ,     9950.  ,     9038.08, ...,       21.  ,        0.  ,        1.  ],\n",
       "       [  575239.  ,    12000.  ,    10900.2 , ...,       25.  ,        1.  ,        2.  ],\n",
       "       [  707689.  ,    10000.  ,     8924.3 , ...,       13.  ,        1.  ,        0.  ],\n",
       "       ...,\n",
       "       [68614880.  ,     5600.  ,     5121.65, ...,        8.  ,        1.  ,        1.  ],\n",
       "       [68615915.  ,     4000.  ,     3658.32, ...,       10.  ,        1.  ,        2.  ],\n",
       "       [68616519.  ,    21600.  ,    19754.93, ...,        3.  ,        0.  ,        2.  ]])"
      ]
     },
     "execution_count": 285,
     "metadata": {},
     "output_type": "execute_result"
    }
   ],
   "source": [
    "#Let's use argsort to get the indices\n",
    "loan_data[np.argsort(loan_data[:,0])]"
   ]
  },
  {
   "cell_type": "code",
   "execution_count": 286,
   "id": "7605d18c-f339-45b0-ad55-b204abe22d05",
   "metadata": {},
   "outputs": [],
   "source": [
    "loan_data = loan_data[np.argsort(loan_data[:,0])]"
   ]
  },
  {
   "cell_type": "code",
   "execution_count": 287,
   "id": "ffbd3819-1be3-4024-81e0-3df543c447e5",
   "metadata": {},
   "outputs": [
    {
     "data": {
      "text/plain": [
       "array([[  373332.  ,     9950.  ,     9038.08, ...,       21.  ,        0.  ,        1.  ],\n",
       "       [  575239.  ,    12000.  ,    10900.2 , ...,       25.  ,        1.  ,        2.  ],\n",
       "       [  707689.  ,    10000.  ,     8924.3 , ...,       13.  ,        1.  ,        0.  ],\n",
       "       ...,\n",
       "       [68614880.  ,     5600.  ,     5121.65, ...,        8.  ,        1.  ,        1.  ],\n",
       "       [68615915.  ,     4000.  ,     3658.32, ...,       10.  ,        1.  ,        2.  ],\n",
       "       [68616519.  ,    21600.  ,    19754.93, ...,        3.  ,        0.  ,        2.  ]])"
      ]
     },
     "execution_count": 287,
     "metadata": {},
     "output_type": "execute_result"
    }
   ],
   "source": [
    "loan_data"
   ]
  },
  {
   "cell_type": "code",
   "execution_count": 289,
   "id": "abed88bd-fe0b-4323-b68b-2ae2d31da200",
   "metadata": {},
   "outputs": [
    {
     "data": {
      "text/plain": [
       "array([   0,    1,    2, ..., 9997, 9998, 9999], dtype=int64)"
      ]
     },
     "execution_count": 289,
     "metadata": {},
     "output_type": "execute_result"
    }
   ],
   "source": [
    "np.argsort(loan_data[:,0])"
   ]
  },
  {
   "cell_type": "markdown",
   "id": "1835bfa9-bb9d-45a3-a2a4-b671891748ad",
   "metadata": {},
   "source": [
    "## Storing the New Dataset"
   ]
  },
  {
   "cell_type": "code",
   "execution_count": 291,
   "id": "a667bb0d-f21b-41cd-8680-c748d864c05c",
   "metadata": {},
   "outputs": [],
   "source": [
    "#Let's complete the dataset by stacking the header for the loan data using vstack\n",
    "loan_data = np.vstack((header_full_new, loan_data))"
   ]
  },
  {
   "cell_type": "code",
   "execution_count": 292,
   "id": "9e649b92-1d8c-423c-b5b4-9a50ea2fefcc",
   "metadata": {},
   "outputs": [
    {
     "data": {
      "text/plain": [
       "array([['id', 'loan_amnt_USD', 'loan_amnt_EUR', ..., 'sub_grade', 'verification_status',\n",
       "        'state_address'],\n",
       "       ['373332.0', '9950.0', '9038.082814338286', ..., '21.0', '0.0', '1.0'],\n",
       "       ['575239.0', '12000.0', '10900.20037910145', ..., '25.0', '1.0', '2.0'],\n",
       "       ...,\n",
       "       ['68614880.0', '5600.0', '5121.647851612413', ..., '8.0', '1.0', '1.0'],\n",
       "       ['68615915.0', '4000.0', '3658.319894008867', ..., '10.0', '1.0', '2.0'],\n",
       "       ['68616519.0', '21600.0', '19754.927427647883', ..., '3.0', '0.0', '2.0']], dtype='<U32')"
      ]
     },
     "execution_count": 292,
     "metadata": {},
     "output_type": "execute_result"
    }
   ],
   "source": [
    "loan_data"
   ]
  },
  {
   "cell_type": "code",
   "execution_count": 293,
   "id": "8eae87f1-e614-445a-a304-c6854d136086",
   "metadata": {},
   "outputs": [],
   "source": [
    "np.savetxt(\"loan-data-preprocessed.csv\", \n",
    "           loan_data, \n",
    "           fmt = '%s',\n",
    "           delimiter = ',')"
   ]
  },
  {
   "cell_type": "code",
   "execution_count": null,
   "id": "0da168f7-e906-4e08-ad82-2cdc199b70e0",
   "metadata": {},
   "outputs": [],
   "source": []
  }
 ],
 "metadata": {
  "kernelspec": {
   "display_name": "Python 3 (ipykernel)",
   "language": "python",
   "name": "python3"
  },
  "language_info": {
   "codemirror_mode": {
    "name": "ipython",
    "version": 3
   },
   "file_extension": ".py",
   "mimetype": "text/x-python",
   "name": "python",
   "nbconvert_exporter": "python",
   "pygments_lexer": "ipython3",
   "version": "3.11.7"
  }
 },
 "nbformat": 4,
 "nbformat_minor": 5
}
