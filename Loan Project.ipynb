{
 "cells": [
  {
   "cell_type": "markdown",
   "id": "add1110d-6db8-4c4f-83c2-a383d4e89956",
   "metadata": {},
   "source": [
    "## Importing the packages"
   ]
  },
  {
   "cell_type": "code",
   "execution_count": null,
   "id": "b64bbdbe-9982-48bb-8826-defffdc3de42",
   "metadata": {},
   "outputs": [],
   "source": [
    "import numpy as np"
   ]
  },
  {
   "cell_type": "code",
   "execution_count": null,
   "id": "f79f6e1d-a515-4378-b9cd-b51e4dfe246a",
   "metadata": {},
   "outputs": [],
   "source": [
    "#Let's make the displayed data more viewer-friendly using the code below\n",
    "np.set_printoptions(suppress = True, linewidth = 100, precision = 2)"
   ]
  },
  {
   "cell_type": "markdown",
   "id": "56e58095-a3cd-46d5-9b26-088b32b84b03",
   "metadata": {},
   "source": [
    "Importing the Data"
   ]
  },
  {
   "cell_type": "code",
   "execution_count": null,
   "id": "4eb622c3-5673-4924-9fbe-86c99c856bee",
   "metadata": {},
   "outputs": [],
   "source": [
    "# To ascertain if there are any values let's use np.loadtxt, an error means there are missing values\n",
    "raw_data_np = np.loadtxt(\"loan-data.csv\", delimiter = ';')\n",
    "raw_data_np"
   ]
  },
  {
   "cell_type": "code",
   "execution_count": null,
   "id": "801d24e2-ec14-4f22-8ae2-a376f099dd4e",
   "metadata": {},
   "outputs": [],
   "source": [
    "# let's switch to np.genfromtxt since we got errors above there are missing values\n",
    "raw_data_np = np.genfromtxt(\"loan-data.csv\", delimiter = ';')\n",
    "raw_data_np"
   ]
  },
  {
   "cell_type": "code",
   "execution_count": null,
   "id": "872710d5-d92f-4f2e-9e47-356a9c618f98",
   "metadata": {},
   "outputs": [],
   "source": [
    "# let's use skip_header abnd autostrip because the entire first row has nan values and whitespaces that distort our columns respectively\n",
    "raw_data_np = np.genfromtxt(\"loan-data.csv\", delimiter = ';',\n",
    "                            skip_header = 1,\n",
    "                            autostrip = True)\n",
    "raw_data_np"
   ]
  },
  {
   "cell_type": "markdown",
   "id": "e9106048-cc28-44c4-b56a-e6926e2117d5",
   "metadata": {},
   "source": [
    "## Checking for incomplete data"
   ]
  },
  {
   "cell_type": "code",
   "execution_count": null,
   "id": "b5506716-95bb-4c38-921d-99ea92703d81",
   "metadata": {},
   "outputs": [],
   "source": [
    "# Let dot chain the sum() with isnan() to determine the number of missing values\n",
    "np.isnan(raw_data_np).sum()"
   ]
  },
  {
   "cell_type": "code",
   "execution_count": null,
   "id": "a3c0d893-01b8-4ee5-92a3-9da896a715c5",
   "metadata": {},
   "outputs": [],
   "source": [
    "# We have lots of missing values so let's take care of them. temporary_fill will be greater\n",
    "#than any values in the data set and thus serves as a filler for all missing entries.temporary_mean is the mean for each column\n",
    "\n",
    "temporary_fill = np.nanmax(raw_data_np).round(2) +1\n",
    "temporary_mean = np.nanmean(raw_data_np, axis = 0)"
   ]
  },
  {
   "cell_type": "code",
   "execution_count": null,
   "id": "e87008a4-95f8-481d-b2cd-e74b0f6b1b1b",
   "metadata": {},
   "outputs": [],
   "source": [
    "# We got a warning  (RuntimeWarning: Mean of empty slice) after running the previsous code \n",
    "#because some columns consist entriely of text data hence the means are NAN.We will have to \n",
    "#split the data into numerical and nonnumerical data\n",
    "\n",
    "temporary_mean"
   ]
  },
  {
   "cell_type": "code",
   "execution_count": null,
   "id": "0060bd81-69fa-4979-98c3-d6ae58115aca",
   "metadata": {},
   "outputs": [],
   "source": [
    "temporary_stats = np.array([np.nanmin(raw_data_np, axis = 0),\n",
    "                           temporary_mean,\n",
    "                           np.nanmax(raw_data_np, axis = 0)])"
   ]
  },
  {
   "cell_type": "code",
   "execution_count": null,
   "id": "55fd749b-1890-4c7c-ad0b-5206fc522abc",
   "metadata": {},
   "outputs": [],
   "source": [
    "temporary_stats"
   ]
  },
  {
   "cell_type": "markdown",
   "id": "a7e4dc85-d102-4724-924b-a0f9661b33b6",
   "metadata": {},
   "source": [
    "## Splitting the Dataset"
   ]
  },
  {
   "cell_type": "code",
   "execution_count": null,
   "id": "e3cabfd1-0477-4a9b-b12e-8854342cc517",
   "metadata": {},
   "outputs": [],
   "source": [
    "#We first need to know which columns contain numerical data (columns_numeric) and nonnumerical data (column_strings),we can use temporary_mean\n",
    "# and use np.argwhere to return the indices of 'nan' columns\n",
    "columns_strings = np.argwhere(np.isnan(temporary_mean) == True).squeeze()\n",
    "columns_strings"
   ]
  },
  {
   "cell_type": "code",
   "execution_count": null,
   "id": "ab8b56a6-74db-44b4-8f02-21321f453d1d",
   "metadata": {},
   "outputs": [],
   "source": [
    "# Let's identify columns with numeric data\n",
    "columns_numeric = np.argwhere(np.isnan(temporary_mean) == False).squeeze()\n",
    "columns_numeric"
   ]
  },
  {
   "cell_type": "markdown",
   "id": "22fb31d5-919e-46e6-befa-eff2476b871c",
   "metadata": {},
   "source": [
    "## Re-importing the dataset"
   ]
  },
  {
   "cell_type": "code",
   "execution_count": null,
   "id": "0321ad71-3d14-4717-9785-5df000633fe2",
   "metadata": {},
   "outputs": [],
   "source": [
    "#Let's re-import the data using the usecols parameter to split the data into two arrays (numeric and nonnumeric data)\n",
    "# rename variables appropriately\n",
    "\n",
    "loan_data_strings = np.genfromtxt(\"loan-data.csv\", delimiter = ';',\n",
    "                            skip_header = 1,\n",
    "                            autostrip = True,\n",
    "                            usecols = columns_strings,\n",
    "                            dtype = np.str_)\n",
    "loan_data_strings "
   ]
  },
  {
   "cell_type": "code",
   "execution_count": null,
   "id": "25cf0aea-6fa0-4041-b74e-26a8082c962c",
   "metadata": {},
   "outputs": [],
   "source": [
    "#Follow the methodology above and copy the code and rename it to make the numerical array\n",
    "\n",
    "loan_data_numeric = np.genfromtxt(\"loan-data.csv\", delimiter = ';',\n",
    "                            skip_header = 1,\n",
    "                            autostrip = True,\n",
    "                            usecols = columns_numeric,\n",
    "                            filling_values = temporary_fill)\n",
    "loan_data_numeric"
   ]
  },
  {
   "cell_type": "markdown",
   "id": "5c204db1-da40-4c1e-86ea-66bc37c7f785",
   "metadata": {},
   "source": [
    "## The Names of the Columns"
   ]
  },
  {
   "cell_type": "code",
   "execution_count": null,
   "id": "bb9e9e62-7013-4ede-9a4e-87047863885d",
   "metadata": {},
   "outputs": [],
   "source": [
    "#Let's get all the names of the columns\n",
    "header_full = np.genfromtxt(\"loan-data.csv\",\n",
    "                            delimiter = ';',\n",
    "                            skip_footer = raw_data_np.shape[0],\n",
    "                            autostrip = True,\n",
    "                            dtype = np.str_)\n",
    "header_full "
   ]
  },
  {
   "cell_type": "code",
   "execution_count": null,
   "id": "beb55336-77ed-4c52-8589-62ba354e9705",
   "metadata": {},
   "outputs": [],
   "source": [
    "header_strings, header_numeric = header_full[columns_strings],header_full[columns_numeric]"
   ]
  },
  {
   "cell_type": "code",
   "execution_count": null,
   "id": "cd33acec-5a4b-48de-828a-5930a2564f4d",
   "metadata": {},
   "outputs": [],
   "source": [
    "header_strings"
   ]
  },
  {
   "cell_type": "code",
   "execution_count": null,
   "id": "4b9075a1-8c64-4f18-91f6-e3b2a6f25a56",
   "metadata": {},
   "outputs": [],
   "source": [
    "header_numeric"
   ]
  },
  {
   "cell_type": "markdown",
   "id": "6eaeccd4-b92d-4af2-a764-632499378241",
   "metadata": {},
   "source": [
    "## Creating Checkpoints:"
   ]
  },
  {
   "cell_type": "code",
   "execution_count": null,
   "id": "c14726cf-c8b0-44a7-a9ea-97c7cd1707cd",
   "metadata": {},
   "outputs": [],
   "source": [
    "def checkpoint(file_name, checkpoint_header, checkpoint_data):\n",
    "    np.savez(file_name, header = checkpoint_header, data = checkpoint_data)\n",
    "    checkpoint_variable = np.load(file_name + \".npz\")\n",
    "    return(checkpoint_variable)\n",
    "    "
   ]
  },
  {
   "cell_type": "code",
   "execution_count": null,
   "id": "2be12729-8175-4374-a70d-390ca3c0324c",
   "metadata": {},
   "outputs": [],
   "source": [
    "checkpoint_test = checkpoint(\"checkpoint-test\", header_strings, loan_data_strings)"
   ]
  },
  {
   "cell_type": "code",
   "execution_count": null,
   "id": "24fc4e9d-4039-4a2e-9ec7-938f5dea2e34",
   "metadata": {},
   "outputs": [],
   "source": [
    "checkpoint_test['header']"
   ]
  },
  {
   "cell_type": "code",
   "execution_count": null,
   "id": "487963fd-daa3-4f46-85c1-a985f26cef0a",
   "metadata": {},
   "outputs": [],
   "source": [
    "checkpoint_test['data']"
   ]
  },
  {
   "cell_type": "code",
   "execution_count": null,
   "id": "44594375-2b80-4293-88b8-f7f1acde5e05",
   "metadata": {},
   "outputs": [],
   "source": [
    "np.array_equal(checkpoint_test['data'], loan_data_strings)"
   ]
  },
  {
   "cell_type": "markdown",
   "id": "917ee244-8607-4d5f-b83d-0844f3ee5ed7",
   "metadata": {},
   "source": [
    "## Manipulating String Columns"
   ]
  },
  {
   "cell_type": "code",
   "execution_count": null,
   "id": "3bc9cfe5-bcd6-4387-933f-20476d6af717",
   "metadata": {},
   "outputs": [],
   "source": [
    "#Let's recall the header names of columns containing only string values\n",
    "header_strings"
   ]
  },
  {
   "cell_type": "code",
   "execution_count": null,
   "id": "26279d5e-60d3-4f28-812e-cdd6458e0d89",
   "metadata": {},
   "outputs": [],
   "source": [
    "#let's rename some columns to make it easier to know what they represent\n",
    "\n",
    "header_strings[0] = \"issue_date\""
   ]
  },
  {
   "cell_type": "code",
   "execution_count": null,
   "id": "fe7331ee-f285-4295-8c0f-25417fafeac8",
   "metadata": {},
   "outputs": [],
   "source": [
    "# Let's look at the string data in its entirety\n",
    "\n",
    "loan_data_strings"
   ]
  },
  {
   "cell_type": "markdown",
   "id": "91ba0ebb-7812-411f-a94c-99b87b236893",
   "metadata": {},
   "source": [
    "## Issue Date"
   ]
  },
  {
   "cell_type": "code",
   "execution_count": null,
   "id": "c36d5cb7-8e21-442e-a894-2c07d91e7d87",
   "metadata": {},
   "outputs": [],
   "source": [
    "# We can manipulate the issue date data so let's look at that column\n",
    "loan_data_strings[:,0]"
   ]
  },
  {
   "cell_type": "code",
   "execution_count": null,
   "id": "3ac44991-6ac2-4e4e-808e-d831d4d3c749",
   "metadata": {},
   "outputs": [],
   "source": [
    "# Months are represented by the first three letters of the month.Let's confirm if this is pattern for the whole column\n",
    "np.unique(loan_data_strings[:,0])"
   ]
  },
  {
   "cell_type": "code",
   "execution_count": null,
   "id": "84d85bde-877d-4860-b849-7ac9a2540bea",
   "metadata": {},
   "outputs": [],
   "source": [
    "#Looks like all the data contains '-15' in common so we can strip it away without losing insghtful information\n",
    "np.chararray.strip(loan_data_strings[:,0], \"-15\")"
   ]
  },
  {
   "cell_type": "code",
   "execution_count": null,
   "id": "7e3d243f-f92a-4af3-9f1c-54748653e5b6",
   "metadata": {},
   "outputs": [],
   "source": [
    "#Let's overwirte the data in that column since we confirmed in above cell that the '-15' has been removed for each element\n",
    "loan_data_strings[:,0] = np.chararray.strip(loan_data_strings[:,0], \"-15\")\n"
   ]
  },
  {
   "cell_type": "code",
   "execution_count": null,
   "id": "f2aa20a1-f9d5-4b9a-a685-67c42c2d2d00",
   "metadata": {},
   "outputs": [],
   "source": [
    "#Let's look at the unique elements again to confrim we have removed excess data ('-15')\n",
    "np.unique(loan_data_strings[:,0])"
   ]
  },
  {
   "cell_type": "code",
   "execution_count": null,
   "id": "6dc4ab8e-58e4-4328-8265-06c3ccec5167",
   "metadata": {},
   "outputs": [],
   "source": [
    "#In analysis it is more convenient to represent the month values as integers\n",
    "# One advatage is that this Store the data using less memory or space\n",
    "#Enables a more easy to follow order of the months\n",
    "# Let's use a 'for loop' and months 'array' to change the month strings to string 'values' first and then cast into integers later\n",
    "\n",
    "months  = np.array(['','Jan', 'Feb','Mar','Apr', 'May','Jun','Jul', 'Aug','Sep','Oct', 'Nov','Dec'])"
   ]
  },
  {
   "cell_type": "code",
   "execution_count": null,
   "id": "6ed7f031-de54-4e16-a20f-8efc818717b1",
   "metadata": {},
   "outputs": [],
   "source": [
    "for i in range(13):\n",
    "    loan_data_strings[:,0] = np.where(loan_data_strings[:,0] == months[i],\n",
    "                                      i,\n",
    "                                     loan_data_strings[:,0])\n"
   ]
  },
  {
   "cell_type": "code",
   "execution_count": null,
   "id": "e1b9c8e7-7152-45e0-bf10-3a95402b2a35",
   "metadata": {},
   "outputs": [],
   "source": [
    "#Let's confirm that there are no more str for month data\n",
    "np.unique(loan_data_strings[:,0])"
   ]
  },
  {
   "cell_type": "markdown",
   "id": "abc1bebd-5a7d-42f6-b3b0-0c58981bf68b",
   "metadata": {},
   "source": [
    "## Loan Status\n",
    "\n"
   ]
  },
  {
   "cell_type": "code",
   "execution_count": null,
   "id": "1035da9d-dab3-4860-8fe9-3dcb9ded24dd",
   "metadata": {},
   "outputs": [],
   "source": [
    "#Let's examine other columns to find any excess data\n",
    "header_strings"
   ]
  },
  {
   "cell_type": "code",
   "execution_count": null,
   "id": "1b53a778-9da0-4b5b-acf4-c170b750f48c",
   "metadata": {},
   "outputs": [],
   "source": [
    "loan_data_strings[:,1]"
   ]
  },
  {
   "cell_type": "code",
   "execution_count": null,
   "id": "155b14e7-8906-4b5b-ae66-15e752847133",
   "metadata": {},
   "outputs": [],
   "source": [
    "#Let's confirm if all elements in this column are 'current'\n",
    "\n",
    "np.unique(loan_data_strings[:,1])"
   ]
  },
  {
   "cell_type": "code",
   "execution_count": null,
   "id": "dfcfb6d3-2175-4275-a121-0271512796ca",
   "metadata": {},
   "outputs": [],
   "source": [
    "np.unique(loan_data_strings[:,1]).size"
   ]
  },
  {
   "cell_type": "code",
   "execution_count": null,
   "id": "426925e3-55ee-4119-9a6c-ef62d153dd93",
   "metadata": {},
   "outputs": [],
   "source": [
    "#Banks use regression analysis to assess loan applicants, their primary concern is \n",
    "#determining whether the applicant has a consistent and dependable financial standing. \n",
    "#We need to split all possible values of 'loan_status' into either good or bad (0 or 1)\n",
    "#fully paid, Current, In Grace period, Issued, late (16-30 days) = good and the rest are bad\n",
    "\n",
    "status_bad = np.array(['', 'Charged Off', 'Default', 'Late (31-120 days)'])"
   ]
  },
  {
   "cell_type": "code",
   "execution_count": null,
   "id": "24efa968-d169-4823-af20-fbf7d3f16b9c",
   "metadata": {},
   "outputs": [],
   "source": [
    "#Let's check if an element in loan_status column is in status_bad, if so assign it a zero and if not, assign a one\n",
    "loan_data_strings[:,1] = np.where(np.isin(loan_data_strings[:,1], status_bad), 0, 1)"
   ]
  },
  {
   "cell_type": "code",
   "execution_count": null,
   "id": "772e99e5-8a68-49df-a9c3-2db9d51e34bb",
   "metadata": {},
   "outputs": [],
   "source": [
    "#let's confirm if all elements in the loan_status have the dumby variable 1 or 0 only\n",
    "np.unique(loan_data_strings[:,1])"
   ]
  },
  {
   "cell_type": "markdown",
   "id": "3a7d94e1-a411-470e-ab08-71b71ea53ec3",
   "metadata": {},
   "source": [
    "## Term"
   ]
  },
  {
   "cell_type": "code",
   "execution_count": null,
   "id": "78906b75-02c3-4c3b-a9ea-26609cd711e2",
   "metadata": {},
   "outputs": [],
   "source": [
    "#Let's ;ool at other columns in the string data\n",
    "header_strings"
   ]
  },
  {
   "cell_type": "code",
   "execution_count": null,
   "id": "9be111e7-8430-492d-8f6e-abbae59e50f4",
   "metadata": {},
   "outputs": [],
   "source": [
    "loan_data_strings[:,2]"
   ]
  },
  {
   "cell_type": "code",
   "execution_count": null,
   "id": "c991481e-d342-403f-9ea7-78a3e5b07551",
   "metadata": {},
   "outputs": [],
   "source": [
    "np.unique(loan_data_strings[:,2])"
   ]
  },
  {
   "cell_type": "code",
   "execution_count": null,
   "id": "45118ff6-0aa7-49cd-9668-cffabda672eb",
   "metadata": {},
   "outputs": [],
   "source": [
    "#let's remove the \" months\" (empty months) string\n",
    "\n",
    "loan_data_strings[:,2] = np.chararray.strip(loan_data_strings[:,2], \" months\")\n",
    "loan_data_strings[:,2]"
   ]
  },
  {
   "cell_type": "code",
   "execution_count": null,
   "id": "641828bf-4c6b-4dbc-acb0-4838621f69b9",
   "metadata": {},
   "outputs": [],
   "source": [
    "np.unique(loan_data_strings[:,2])"
   ]
  },
  {
   "cell_type": "code",
   "execution_count": null,
   "id": "9aa5013a-6dfe-4994-bad9-9491c5d2ac32",
   "metadata": {},
   "outputs": [],
   "source": [
    "#Let's rename the column to make it more descriptive of what the data represents\n",
    "header_strings[2] = \"term_months\""
   ]
  },
  {
   "cell_type": "code",
   "execution_count": null,
   "id": "f5837909-5770-4898-b0d0-c6adb5ca5783",
   "metadata": {},
   "outputs": [],
   "source": [
    "#When we have missing data in the Credit Risk Model (CRM), we assume the worst\n",
    "#Let's convert empty strings to '60'\n",
    "loan_data_strings[:,2] = np.where(loan_data_strings[:,2] == '',\n",
    "                                  '60', \n",
    "                                  loan_data_strings[:,2])\n"
   ]
  },
  {
   "cell_type": "code",
   "execution_count": null,
   "id": "789954d7-b6df-4b49-9eec-40957cd9982e",
   "metadata": {},
   "outputs": [],
   "source": [
    "#Let's check to see the contents of term_months again\n",
    "#After that we will look at grade and subgrade\n",
    "np.unique(loan_data_strings[:,2])"
   ]
  },
  {
   "cell_type": "markdown",
   "id": "b2d35bd0-ece6-4fab-bba4-7682e5c4c3d2",
   "metadata": {},
   "source": [
    "Grade and Subgrade"
   ]
  },
  {
   "cell_type": "code",
   "execution_count": null,
   "id": "271f5efa-a202-4804-91f5-3155627c717f",
   "metadata": {},
   "outputs": [],
   "source": [
    "header_strings"
   ]
  },
  {
   "cell_type": "code",
   "execution_count": null,
   "id": "86eaca8b-90cf-458d-bf0b-33bf67b73601",
   "metadata": {},
   "outputs": [],
   "source": [
    "loan_data_strings[:,3]"
   ]
  },
  {
   "cell_type": "code",
   "execution_count": null,
   "id": "5cb5f88d-3a0a-41d3-8bec-4637e331285a",
   "metadata": {},
   "outputs": [],
   "source": [
    "np.unique(loan_data_strings[:,3])"
   ]
  },
  {
   "cell_type": "code",
   "execution_count": null,
   "id": "6329bd9f-3256-4dc0-a869-cb0ff5237c44",
   "metadata": {},
   "outputs": [],
   "source": [
    "loan_data_strings[:,4]\n"
   ]
  },
  {
   "cell_type": "code",
   "execution_count": null,
   "id": "c0673196-1a2c-4b6e-931d-86baf9befc17",
   "metadata": {},
   "outputs": [],
   "source": [
    "np.unique(loan_data_strings[:,4])"
   ]
  },
  {
   "cell_type": "code",
   "execution_count": null,
   "id": "3a1f6cc3-cd86-4914-aa29-983c3688c77f",
   "metadata": {},
   "outputs": [],
   "source": [
    "#Grade and subgrade are  related making grade somewhat redundant, thus can grade can be later removed\n",
    "# Empty strings in subgrade can be substituted using grade\n",
    "# Use grade for an approriate approximation of subgrade empty string\n",
    "\n",
    "for i in np.unique(loan_data_strings[:,3])[1:]:\n",
    "    loan_data_strings[:,4] = np.where((loan_data_strings[:,4] == '') & (loan_data_strings[:,3] == i),\n",
    "                                      i + '5',\n",
    "                                      loan_data_strings[:,4])"
   ]
  },
  {
   "cell_type": "code",
   "execution_count": null,
   "id": "074324df-0c93-414c-8c87-9441e0a9222a",
   "metadata": {},
   "outputs": [],
   "source": [
    "np.unique(loan_data_strings[:,4])"
   ]
  },
  {
   "cell_type": "code",
   "execution_count": null,
   "id": "bb05aeb2-706c-4ecf-bd60-231241249c8a",
   "metadata": {},
   "outputs": [],
   "source": [
    "#When return_counts = True, np.unique will return the number of times each unique value occurs in the input array.\n",
    "#Let's see how many times we get the empty string\n",
    "np.unique(loan_data_strings[:,4], return_counts = True)"
   ]
  },
  {
   "cell_type": "code",
   "execution_count": null,
   "id": "5554be7b-a0b0-47ee-baa9-ec0a4a4666e9",
   "metadata": {},
   "outputs": [],
   "source": [
    "#We have 9 empty spaces out of 10 000 rows which means they are insignificant\n",
    "#However, let's not igonore these empty space, instead\n",
    "#Let's assign the empty space a new value of 'H1'\n",
    "\n",
    "loan_data_strings[:,4] = np.where(loan_data_strings[:,4] == '',\n",
    "                                      'H1',\n",
    "                                      loan_data_strings[:,4])"
   ]
  },
  {
   "cell_type": "code",
   "execution_count": null,
   "id": "df738beb-7328-4f63-a3c5-23bc7eafab9b",
   "metadata": {},
   "outputs": [],
   "source": [
    "np.unique(loan_data_strings[:,4])"
   ]
  },
  {
   "cell_type": "markdown",
   "id": "038d5813-4c86-4677-b221-afd283d1cc79",
   "metadata": {},
   "source": [
    "Removing Grade"
   ]
  },
  {
   "cell_type": "code",
   "execution_count": null,
   "id": "15dcd47c-cc44-4cb5-b8b0-0fd40f31be24",
   "metadata": {},
   "outputs": [],
   "source": [
    "#We no longer need grade in the dataset as the information is carried by subgrade\n",
    "#axis = 1 indicates that the deletion operation should be applied along the columns (or second axis) of the array.\n",
    "loan_data_strings = np.delete(loan_data_strings, 3, axis = 1)"
   ]
  },
  {
   "cell_type": "code",
   "execution_count": null,
   "id": "2d5014bf-b1bb-4a9d-827b-654a11c24c72",
   "metadata": {},
   "outputs": [],
   "source": [
    "loan_data_strings[:,3]"
   ]
  },
  {
   "cell_type": "code",
   "execution_count": null,
   "id": "0bf849dd-1665-44fa-8229-c5a62b4e6043",
   "metadata": {},
   "outputs": [],
   "source": [
    "header_strings"
   ]
  },
  {
   "cell_type": "code",
   "execution_count": null,
   "id": "c0f8bbc6-9308-4b6b-a1c0-2d86af1ff1e9",
   "metadata": {},
   "outputs": [],
   "source": [
    "header_strings =np.delete(header_strings, 3)"
   ]
  },
  {
   "cell_type": "code",
   "execution_count": null,
   "id": "cf1d9fbd-10f6-424f-bf03-c4772bdaca5b",
   "metadata": {},
   "outputs": [],
   "source": [
    "header_strings"
   ]
  },
  {
   "cell_type": "code",
   "execution_count": null,
   "id": "bc666cd4-8060-49de-8162-50751ade16b4",
   "metadata": {},
   "outputs": [],
   "source": [
    "header_strings[3]"
   ]
  },
  {
   "cell_type": "markdown",
   "id": "498a925d-7a4f-4622-b49d-dc5f6ff48f7f",
   "metadata": {},
   "source": [
    "## Converting Sub Grade"
   ]
  },
  {
   "cell_type": "code",
   "execution_count": null,
   "id": "a3822a71-8273-4c05-ba83-9111409494c2",
   "metadata": {},
   "outputs": [],
   "source": [
    "loan_data_strings[:,3]"
   ]
  },
  {
   "cell_type": "code",
   "execution_count": null,
   "id": "3f002d52-fcfb-4393-9318-4c3347628d52",
   "metadata": {},
   "outputs": [],
   "source": [
    "np.unique(loan_data_strings[:,3])"
   ]
  },
  {
   "cell_type": "code",
   "execution_count": null,
   "id": "18d2c1b3-a3da-45f6-bdd2-4e7fbbf93c02",
   "metadata": {},
   "outputs": [],
   "source": [
    "#Let's convert the sub-grade elements into numeric values\n",
    "\n",
    "keys = list(np.unique(loan_data_strings[:,3]))\n",
    "values = list(range(1, np.unique(loan_data_strings[:,3]).shape[0] + 1))\n",
    "dict_sub_grade  = dict(zip(keys, values))"
   ]
  },
  {
   "cell_type": "code",
   "execution_count": null,
   "id": "5f227b67-fa65-4c3c-827d-d472053425db",
   "metadata": {},
   "outputs": [],
   "source": [
    "dict(zip(keys, values))"
   ]
  },
  {
   "cell_type": "code",
   "execution_count": null,
   "id": "459bf395-3c91-4521-9460-1d9a03b36c71",
   "metadata": {},
   "outputs": [],
   "source": [
    "for i in np.unique(loan_data_strings[:,3]):\n",
    "    loan_data_strings[:,3] = np.where(loan_data_strings[:,3] == i,\n",
    "                                      dict_sub_grade[i],\n",
    "                                     loan_data_strings[:,3])"
   ]
  },
  {
   "cell_type": "code",
   "execution_count": null,
   "id": "4f6c1395-e0eb-4d4d-aee5-712f0d8263aa",
   "metadata": {},
   "outputs": [],
   "source": [
    "np.unique(loan_data_strings[:,3])"
   ]
  },
  {
   "cell_type": "markdown",
   "id": "dc7dbd20-17a3-44c6-b2a6-3d8fc4e18cdf",
   "metadata": {},
   "source": [
    "## Verification Status"
   ]
  },
  {
   "cell_type": "code",
   "execution_count": null,
   "id": "03595a19-413b-485e-a2da-f75109c5511d",
   "metadata": {},
   "outputs": [],
   "source": [
    "header_strings"
   ]
  },
  {
   "cell_type": "code",
   "execution_count": null,
   "id": "c9fd1ac1-4393-4bf8-8834-c2229f02016b",
   "metadata": {},
   "outputs": [],
   "source": [
    "loan_data_strings[:,4]"
   ]
  },
  {
   "cell_type": "code",
   "execution_count": null,
   "id": "bcca6f7f-c429-40bb-91d2-00d386fb9da5",
   "metadata": {},
   "outputs": [],
   "source": [
    "np.unique(loan_data_strings[:,4])"
   ]
  },
  {
   "cell_type": "code",
   "execution_count": null,
   "id": "45a53fc4-f890-4530-b044-36b06507f8b4",
   "metadata": {},
   "outputs": [],
   "source": [
    "#Just line lon status, we will set the good and bad verification_statuses as 1 and 0 repectively\n",
    "# '' and not verified are bad hence equal to 0\n",
    "# source verified and verified are good hence assign a 1\n",
    "\n",
    "\n",
    "loan_data_strings[:, 4] = np.where((loan_data_strings[:, 4] == '') | (loan_data_strings[:, 4] == 'Not Verified'), 0, 1)"
   ]
  },
  {
   "cell_type": "code",
   "execution_count": null,
   "id": "5b583392-5f71-4261-bd93-c93b0e1077bb",
   "metadata": {},
   "outputs": [],
   "source": [
    "np.unique(loan_data_strings[:,4])"
   ]
  },
  {
   "cell_type": "markdown",
   "id": "3537a62d-2a94-421b-b551-dc5df4bc9f51",
   "metadata": {},
   "source": [
    "## URL"
   ]
  },
  {
   "cell_type": "code",
   "execution_count": null,
   "id": "82206a4f-a4a3-41b2-83ae-383a1e379988",
   "metadata": {},
   "outputs": [],
   "source": [
    "header_strings"
   ]
  },
  {
   "cell_type": "code",
   "execution_count": null,
   "id": "01949450-e093-40f8-8dcf-d6a82afbf7b4",
   "metadata": {},
   "outputs": [],
   "source": [
    "loan_data_strings[:,5]"
   ]
  },
  {
   "cell_type": "code",
   "execution_count": null,
   "id": "d747624d-eced-479b-b788-eca15492d3a8",
   "metadata": {},
   "outputs": [],
   "source": [
    "np.chararray.strip(loan_data_strings[:,5], \"https://www.lendingclub.com/browse/loanDetail.action?loan_id=\")"
   ]
  },
  {
   "cell_type": "code",
   "execution_count": null,
   "id": "1b56fc51-db05-40cd-a3c0-598358f10ac6",
   "metadata": {},
   "outputs": [],
   "source": [
    "loan_data_strings[:,5] = np.chararray.strip(loan_data_strings[:,5], \"https://www.lendingclub.com/browse/loanDetail.action?loan_id=\")"
   ]
  },
  {
   "cell_type": "code",
   "execution_count": null,
   "id": "f65e02c5-f093-46c5-86f1-98c563d110ed",
   "metadata": {},
   "outputs": [],
   "source": [
    "np.unique(loan_data_strings[:,5])"
   ]
  },
  {
   "cell_type": "code",
   "execution_count": null,
   "id": "133950ac-3276-4c65-ab34-78d443cbaad1",
   "metadata": {},
   "outputs": [],
   "source": [
    "# Recall that the id in the numeric string might possibly match this last digits on each url\n",
    "\n",
    "header_full"
   ]
  },
  {
   "cell_type": "code",
   "execution_count": null,
   "id": "a84c112e-77f0-4338-86ff-b8f91c880252",
   "metadata": {},
   "outputs": [],
   "source": [
    "#call the first column from the numeric dataset\n",
    "loan_data_numeric[:,0]"
   ]
  },
  {
   "cell_type": "code",
   "execution_count": null,
   "id": "66866015-1539-4a02-8301-202c90587ef3",
   "metadata": {},
   "outputs": [],
   "source": [
    "#call the URL column\n",
    "\n",
    "loan_data_strings[:,5]"
   ]
  },
  {
   "cell_type": "code",
   "execution_count": null,
   "id": "e51285e9-86dd-4c67-959f-d504e3c10e45",
   "metadata": {},
   "outputs": [],
   "source": [
    "#cast the URL data into integers\n",
    "loan_data_strings[:,5].astype(dtype = np.int32)"
   ]
  },
  {
   "cell_type": "code",
   "execution_count": null,
   "id": "64ca3540-0d71-4aec-9335-c6f4f2763d00",
   "metadata": {},
   "outputs": [],
   "source": [
    "#verify that the id and url suffix are the same using np. array_equal\n",
    "#Results show that the URL column doesnt hold any information which we cannot extract from the ID column so we can delete it\n",
    "np.array_equal(loan_data_strings[:,5].astype(dtype = np.int32),loan_data_numeric[:,0].astype(dtype = np.int32))"
   ]
  },
  {
   "cell_type": "code",
   "execution_count": null,
   "id": "8e097e4c-8586-443e-ae14-75b2f4866b84",
   "metadata": {},
   "outputs": [],
   "source": [
    "#Let's get rid of url column from the header and string data\n",
    "loan_data_strings = np.delete(loan_data_strings, 5, axis  = 1)\n",
    "header_strings = np.delete(header_strings, 5)"
   ]
  },
  {
   "cell_type": "code",
   "execution_count": null,
   "id": "91a26c87-7aa1-4b25-b470-a21cb04b5a54",
   "metadata": {},
   "outputs": [],
   "source": [
    "#In the next cells just comfirm that we didn't accidentally delete important data (ID) from the numeric dataset\n",
    "loan_data_strings[:,5]"
   ]
  },
  {
   "cell_type": "code",
   "execution_count": null,
   "id": "aad437e8-2c0a-434d-8988-b3f36db2c8e3",
   "metadata": {},
   "outputs": [],
   "source": [
    "header_strings"
   ]
  },
  {
   "cell_type": "code",
   "execution_count": null,
   "id": "d50404ed-7fc5-4a80-a455-1d566a50e251",
   "metadata": {},
   "outputs": [],
   "source": [
    "loan_data_numeric[:,0]"
   ]
  },
  {
   "cell_type": "code",
   "execution_count": null,
   "id": "23bb2437-4b9a-4234-b49b-9d3f64071aba",
   "metadata": {},
   "outputs": [],
   "source": [
    "header_numeric"
   ]
  },
  {
   "cell_type": "markdown",
   "id": "24ba725f-2df3-4132-96a1-e44a1cbee52b",
   "metadata": {},
   "source": [
    "## State Address"
   ]
  },
  {
   "cell_type": "code",
   "execution_count": null,
   "id": "95528bb3-cda2-4127-82a8-92c604fbec6b",
   "metadata": {},
   "outputs": [],
   "source": [
    "header_strings"
   ]
  },
  {
   "cell_type": "code",
   "execution_count": null,
   "id": "fee9c77a-6502-46bb-9427-570ce217249b",
   "metadata": {},
   "outputs": [],
   "source": [
    "loan_data_strings[:,5]"
   ]
  },
  {
   "cell_type": "code",
   "execution_count": null,
   "id": "f642bf4a-21b8-4a80-86cd-e6a2faeba0e7",
   "metadata": {},
   "outputs": [],
   "source": [
    "np.unique(loan_data_strings[:,5])"
   ]
  },
  {
   "cell_type": "code",
   "execution_count": null,
   "id": "e94e920a-6f2a-44ba-9469-85f6bf57530a",
   "metadata": {},
   "outputs": [],
   "source": [
    "np.unique(loan_data_strings[:,5]).size"
   ]
  },
  {
   "cell_type": "code",
   "execution_count": null,
   "id": "025d9ee3-867a-4df5-99a1-9a7bf72b645c",
   "metadata": {},
   "outputs": [],
   "source": [
    "header_strings[5] = \"state_address\""
   ]
  },
  {
   "cell_type": "code",
   "execution_count": null,
   "id": "954f507e-ed9e-4488-9b11-957d7c0d569f",
   "metadata": {},
   "outputs": [],
   "source": [
    "header_strings"
   ]
  },
  {
   "cell_type": "code",
   "execution_count": null,
   "id": "48f60b7a-df88-4178-9230-db08b07fdb67",
   "metadata": {},
   "outputs": [],
   "source": [
    "np.unique(loan_data_strings[:,5], return_counts = True)"
   ]
  },
  {
   "cell_type": "code",
   "execution_count": null,
   "id": "a74fe349-2bd6-40fc-b5b9-e5406f10ac92",
   "metadata": {},
   "outputs": [],
   "source": [
    "#Let's sort states and matching number of applicants in descing order\n",
    "#argsort will give us the indices of values/counts arranged in ascending order so use a negative sign for descending order\n",
    "states_names, states_count = np.unique(loan_data_strings[:,5], return_counts = True)\n",
    "states_count_sorted = np.argsort(-states_count)\n",
    "states_names[states_count_sorted], states_count[states_count_sorted]\n"
   ]
  },
  {
   "cell_type": "code",
   "execution_count": null,
   "id": "648083c3-1dcd-42d7-9484-74f897aa2fc3",
   "metadata": {},
   "outputs": [],
   "source": [
    "#There are more applications with missing or unreported addresses than there are for 45 of the other states\n",
    "# i.e 500 APPLICANTS from empty string state ''\n",
    "#Aggregated geographical data (e.g., regional economic indicators) \n",
    "#may help address the limitations associated with missing location information while still capturing relevant geographical risk factors.\n",
    "# First let's take care of empty valuessss\n",
    "\n",
    "loan_data_strings[:,5] = np.where(loan_data_strings[:,5] == '', 0, loan_data_strings[:,5] )"
   ]
  },
  {
   "cell_type": "markdown",
   "id": "f86ce543-59b0-4785-aca1-e40717ecd877",
   "metadata": {},
   "source": [
    "## https://www2.census.gov/geo/pdfs/maps-data/maps/reference/us_regdiv.pdf"
   ]
  },
  {
   "cell_type": "code",
   "execution_count": null,
   "id": "8f27abae-b650-4c07-8271-1a6fc5635320",
   "metadata": {},
   "outputs": [],
   "source": [
    "states_west = np.array(['WA', 'OR','CA','NV','ID','MT', 'WY','UT','CO', 'AZ','NM','HI','AK'])\n",
    "states_south = np.array(['TX','OK','AR','LA','MS','AL','TN','KY','FL','GA','SC','NC','VA','WV','MD','DE','DC'])\n",
    "states_midwest = np.array(['ND','SD','NE','KS','MN','IA','MO','WI','IL','IN','MI','OH'])\n",
    "states_east = np.array(['PA','NY','NJ','CT','MA','VT','NH','ME','RI'])"
   ]
  },
  {
   "cell_type": "code",
   "execution_count": null,
   "id": "7ff920a3-ec31-40a9-9888-1a079f64a586",
   "metadata": {},
   "outputs": [],
   "source": [
    "loan_data_strings[:,5] = np.where(np.isin(loan_data_strings[:,5], states_west), 1, loan_data_strings[:,5])\n",
    "loan_data_strings[:,5] = np.where(np.isin(loan_data_strings[:,5], states_south), 2, loan_data_strings[:,5])\n",
    "loan_data_strings[:,5] = np.where(np.isin(loan_data_strings[:,5], states_midwest), 3, loan_data_strings[:,5])\n",
    "loan_data_strings[:,5] = np.where(np.isin(loan_data_strings[:,5], states_east), 4, loan_data_strings[:,5])"
   ]
  },
  {
   "cell_type": "code",
   "execution_count": null,
   "id": "bb79a83a-af22-41ed-a020-9ac2b50a27e4",
   "metadata": {},
   "outputs": [],
   "source": [
    "np.unique(loan_data_strings[:,5])"
   ]
  },
  {
   "cell_type": "code",
   "execution_count": null,
   "id": "69da8dab-ef46-400f-860f-be1a46e33394",
   "metadata": {},
   "outputs": [],
   "source": [
    "header_strings\n"
   ]
  },
  {
   "cell_type": "markdown",
   "id": "e2e209df-a32f-44ea-af43-ca713be26f63",
   "metadata": {},
   "source": [
    "Converting to Numbers"
   ]
  },
  {
   "cell_type": "code",
   "execution_count": null,
   "id": "28a6032f-7340-4ba7-8913-02fd237a0e02",
   "metadata": {},
   "outputs": [],
   "source": [
    "loan_data_strings"
   ]
  },
  {
   "cell_type": "code",
   "execution_count": null,
   "id": "657af487-cded-452d-9b0b-44653b45f038",
   "metadata": {},
   "outputs": [],
   "source": [
    "loan_data_strings = loan_data_strings.astype(int)"
   ]
  },
  {
   "cell_type": "code",
   "execution_count": null,
   "id": "0f5dff28-e701-42ed-8578-6866c86a58b3",
   "metadata": {},
   "outputs": [],
   "source": [
    "loan_data_strings"
   ]
  },
  {
   "cell_type": "markdown",
   "id": "c0bcb5c4-f32c-43a1-9d98-55acfab6d0a0",
   "metadata": {},
   "source": [
    "## Checkpoint 1: Strings"
   ]
  },
  {
   "cell_type": "code",
   "execution_count": null,
   "id": "310dc541-e9b6-4757-a2fb-782b489090b5",
   "metadata": {},
   "outputs": [],
   "source": [
    "checkpoint_strings = checkpoint(\"checkpoint-strings\", header_strings, loan_data_strings)"
   ]
  },
  {
   "cell_type": "code",
   "execution_count": null,
   "id": "fd874e11-ceb8-4294-8309-3a7eeed3f077",
   "metadata": {},
   "outputs": [],
   "source": [
    "checkpoint_strings[\"header\"]"
   ]
  },
  {
   "cell_type": "code",
   "execution_count": null,
   "id": "d0dbc706-8b9a-4161-9257-f4789a6614d2",
   "metadata": {},
   "outputs": [],
   "source": [
    "checkpoint_strings[\"data\"]"
   ]
  },
  {
   "cell_type": "code",
   "execution_count": null,
   "id": "3dbf99d3-f826-46be-9e54-2621b8b2429e",
   "metadata": {},
   "outputs": [],
   "source": [
    "np.array_equal(checkpoint_strings[\"data\"],loan_data_strings)"
   ]
  },
  {
   "cell_type": "markdown",
   "id": "729ae89c-e922-4c69-a27e-2f4e99aa1700",
   "metadata": {},
   "source": [
    "Numerical Data"
   ]
  },
  {
   "cell_type": "code",
   "execution_count": null,
   "id": "dae23bfb-e67a-48e4-9fa7-229160541016",
   "metadata": {},
   "outputs": [],
   "source": [
    "loan_data_numeric"
   ]
  },
  {
   "cell_type": "code",
   "execution_count": null,
   "id": "f85be488-6809-4456-9813-07faab9c835f",
   "metadata": {
    "scrolled": true
   },
   "outputs": [],
   "source": [
    "#Technically speaing there aren't any missing values in the array because of temporary_fill\n",
    "np.isnan(loan_data_numeric).sum()"
   ]
  },
  {
   "cell_type": "markdown",
   "id": "4798d259-aa9b-476d-b38e-7c4ef2380112",
   "metadata": {},
   "source": [
    "## Substitute 'filler' values"
   ]
  },
  {
   "cell_type": "code",
   "execution_count": null,
   "id": "96df60b2-0ccd-4328-a808-adf3405ad24d",
   "metadata": {},
   "outputs": [],
   "source": [
    "header_numeric"
   ]
  },
  {
   "cell_type": "markdown",
   "id": "ca3760af-6500-41bc-894f-330ced0c82a3",
   "metadata": {},
   "source": [
    "ID"
   ]
  },
  {
   "cell_type": "code",
   "execution_count": null,
   "id": "69c7d37d-c50e-4f15-af94-51d66a68619f",
   "metadata": {},
   "outputs": [],
   "source": [
    "temporary_fill"
   ]
  },
  {
   "cell_type": "code",
   "execution_count": null,
   "id": "91939673-0c90-4244-b0f1-7dced97532e6",
   "metadata": {},
   "outputs": [],
   "source": [
    "#Let's check if we have filled any missing values in the ID column\n",
    "np.isin(loan_data_numeric[:,0], temporary_fill)"
   ]
  },
  {
   "cell_type": "code",
   "execution_count": null,
   "id": "b37efe57-16a5-4a6c-b5f3-3f002c52c11e",
   "metadata": {},
   "outputs": [],
   "source": [
    "np.isin(loan_data_numeric[:,0], temporary_fill).sum()"
   ]
  },
  {
   "cell_type": "code",
   "execution_count": null,
   "id": "c1028e0b-278f-421e-bdac-455f86a12cac",
   "metadata": {},
   "outputs": [],
   "source": [
    "header_numeric\n"
   ]
  },
  {
   "cell_type": "code",
   "execution_count": null,
   "id": "26fa4b35-3809-4277-8178-63b8f653ae7d",
   "metadata": {},
   "outputs": [],
   "source": [
    "#Funded_amnt missing entries have to be substituted with the lowest recorded values\n",
    "# loan_amnt, int_rate,installment, total_pymnt missing entries need to be replaced with maximum recorded values\n",
    "\n"
   ]
  },
  {
   "cell_type": "markdown",
   "id": "893fa6c9-11ee-4b0d-8946-ffb6971efbe8",
   "metadata": {},
   "source": [
    "## Temporary Stats"
   ]
  },
  {
   "cell_type": "code",
   "execution_count": null,
   "id": "89f27392-203f-413b-849b-97238aa02581",
   "metadata": {},
   "outputs": [],
   "source": [
    "temporary_stats"
   ]
  },
  {
   "cell_type": "code",
   "execution_count": null,
   "id": "668f2c39-924e-4c0f-9f82-d22b3944fd2c",
   "metadata": {},
   "outputs": [],
   "source": [
    "temporary_stats[:,columns_numeric]"
   ]
  },
  {
   "cell_type": "markdown",
   "id": "f5678f44-b6d8-40d3-9d35-339cb47687ee",
   "metadata": {},
   "source": [
    "## Funded Amount"
   ]
  },
  {
   "cell_type": "code",
   "execution_count": null,
   "id": "7465cb24-01ed-4485-b47c-991b5df1ee73",
   "metadata": {},
   "outputs": [],
   "source": [
    "loan_data_numeric[:,2]"
   ]
  },
  {
   "cell_type": "code",
   "execution_count": null,
   "id": "12ac4b0b-6ffd-49c3-8681-45198a808b22",
   "metadata": {},
   "outputs": [],
   "source": [
    "loan_data_numeric[:,2] = np.where(loan_data_numeric[:,2] == temporary_fill,\n",
    "                                 temporary_stats[0, columns_numeric[2]],\n",
    "                                 loan_data_numeric[:,2])\n",
    "loan_data_numeric[:,2]"
   ]
  },
  {
   "cell_type": "code",
   "execution_count": null,
   "id": "e7d74bb9-99e8-4e94-af32-2f404b230d19",
   "metadata": {},
   "outputs": [],
   "source": [
    "temporary_stats[0, columns_numeric[3]]"
   ]
  },
  {
   "cell_type": "markdown",
   "id": "8d4e82ae-5286-42e5-a5fe-ba08bd05509f",
   "metadata": {},
   "source": [
    "## Loaned Amount, Interest Rate, Total Payment, Installment"
   ]
  },
  {
   "cell_type": "code",
   "execution_count": null,
   "id": "215e42af-a8dc-49ba-ae41-727b0f906c21",
   "metadata": {},
   "outputs": [],
   "source": [
    "header_numeric"
   ]
  },
  {
   "cell_type": "code",
   "execution_count": null,
   "id": "fb97e2f9-51b4-43af-bb47-2f15337cbbf0",
   "metadata": {},
   "outputs": [],
   "source": [
    "for i in [1, 3, 4, 5]:\n",
    "    loan_data_numeric[:,i] = np.where(loan_data_numeric[:,i] == temporary_fill,\n",
    "                                 temporary_stats[2, columns_numeric[i]],\n",
    "                                 loan_data_numeric[:,i])"
   ]
  },
  {
   "cell_type": "code",
   "execution_count": null,
   "id": "e654c2f0-94c2-45fa-8263-5d14a30723fa",
   "metadata": {},
   "outputs": [],
   "source": [
    "loan_data_numeric"
   ]
  },
  {
   "cell_type": "markdown",
   "id": "fa4dc85e-487d-456e-b2bc-617ec75b6687",
   "metadata": {},
   "source": [
    "Currency Exchange"
   ]
  },
  {
   "cell_type": "markdown",
   "id": "d26383ea-c63a-4174-85af-5167fbff7bb8",
   "metadata": {},
   "source": [
    "The exchange rate"
   ]
  },
  {
   "cell_type": "code",
   "execution_count": null,
   "id": "8ef4778e-bde5-4acf-bc4b-bbfcc28d9eab",
   "metadata": {},
   "outputs": [],
   "source": [
    "EUR_USD = np.genfromtxt(\"EUR-USD.csv\", delimiter = ',', autostrip = True)\n",
    "EUR_USD"
   ]
  },
  {
   "cell_type": "code",
   "execution_count": null,
   "id": "fcfca21d-8f7d-4d60-a686-6f3ac3a1cf82",
   "metadata": {},
   "outputs": [],
   "source": [
    "EUR_USD = np.genfromtxt(\"EUR-USD.csv\", delimiter = ',', autostrip = True, dtype = np.str_)\n",
    "EUR_USD"
   ]
  },
  {
   "cell_type": "code",
   "execution_count": null,
   "id": "367167c8-96af-4fa5-9f34-3632d1b382e0",
   "metadata": {},
   "outputs": [],
   "source": []
  },
  {
   "cell_type": "code",
   "execution_count": null,
   "id": "fa1ceaa9-7b97-4e87-8412-76ae26378bc6",
   "metadata": {},
   "outputs": [],
   "source": [
    "EUR_USD = np.genfromtxt(\"EUR-USD.csv\", delimiter = ',', autostrip = True, skip_header = 1, usecols = 3)\n",
    "EUR_USD"
   ]
  },
  {
   "cell_type": "code",
   "execution_count": null,
   "id": "3d286907-2328-42b7-acb3-849484c7a159",
   "metadata": {},
   "outputs": [],
   "source": [
    "#Excahnge rate value must match the month the loan was issued.\n",
    "# Issue date is the first column from loan_data_strings dataset\n",
    "loan_data_strings[:,0]"
   ]
  },
  {
   "cell_type": "code",
   "execution_count": null,
   "id": "1e4aa05e-c915-4a49-8d87-b159ca75785d",
   "metadata": {},
   "outputs": [],
   "source": [
    "exchange_rate = loan_data_strings[:,0]\n",
    "\n",
    "for i in range(1,13):\n",
    "    exchange_rate = np.where(exchange_rate == i,\n",
    "                             EUR_USD[i-1],\n",
    "                             exchange_rate)    \n",
    "\n",
    "exchange_rate = np.where(exchange_rate == 0,\n",
    "                         np.mean(EUR_USD),\n",
    "                         exchange_rate)\n",
    "\n",
    "exchange_rate"
   ]
  },
  {
   "cell_type": "code",
   "execution_count": null,
   "id": "0d503845-ca12-4f59-b68f-6d115ad88cda",
   "metadata": {},
   "outputs": [],
   "source": [
    "#Exchange rate column must be added to the numeric data\n",
    "#check for compatability of the two arrays\n",
    "exchange_rate.shape"
   ]
  },
  {
   "cell_type": "code",
   "execution_count": null,
   "id": "bd97a828-3495-448b-8b70-306be4c79ab1",
   "metadata": {},
   "outputs": [],
   "source": [
    "loan_data_numeric.shape"
   ]
  },
  {
   "cell_type": "code",
   "execution_count": null,
   "id": "0d8eadd2-30c4-4f55-a2ab-093d9ed7aa03",
   "metadata": {},
   "outputs": [],
   "source": [
    "exchange_rate = np.reshape(exchange_rate, (10000,1))"
   ]
  },
  {
   "cell_type": "code",
   "execution_count": null,
   "id": "3d5036c9-38c4-424f-9aca-3d3a9e58357e",
   "metadata": {},
   "outputs": [],
   "source": [
    "loan_data_numeric = np.hstack((loan_data_numeric, exchange_rate))"
   ]
  },
  {
   "cell_type": "code",
   "execution_count": null,
   "id": "3a06f80f-3b34-4af6-b9d7-b57753c20f44",
   "metadata": {},
   "outputs": [],
   "source": [
    "header_numeric = np.concatenate((header_numeric, np.array(['exchange_rate'])))\n",
    "header_numeric"
   ]
  },
  {
   "cell_type": "code",
   "execution_count": null,
   "id": "2012a2e5-4ac5-424f-8a6c-ce84ce95196f",
   "metadata": {},
   "outputs": [],
   "source": [
    "header_numeric"
   ]
  },
  {
   "cell_type": "markdown",
   "id": "243846ea-98cb-4e42-a02c-428ad78bf8a3",
   "metadata": {},
   "source": [
    "## FROM USD to EUR"
   ]
  },
  {
   "cell_type": "code",
   "execution_count": null,
   "id": "a5c312bc-aa2d-4f42-8aee-15db5b8115ca",
   "metadata": {},
   "outputs": [],
   "source": [
    "header_numeric"
   ]
  },
  {
   "cell_type": "code",
   "execution_count": null,
   "id": "1be27fdf-3b9e-4f97-8c4e-19d97d0742fe",
   "metadata": {},
   "outputs": [],
   "source": [
    "columns_dollar = np.array([1,2,4,5])"
   ]
  },
  {
   "cell_type": "code",
   "execution_count": null,
   "id": "9dc5d81e-fa40-450f-bbdc-5d0c47b352e6",
   "metadata": {},
   "outputs": [],
   "source": [
    "loan_data_numeric[:,[columns_dollars]]"
   ]
  },
  {
   "cell_type": "code",
   "execution_count": null,
   "id": "1b6a6d16-c1b6-4d7f-a6eb-64e2c180d3f4",
   "metadata": {},
   "outputs": [],
   "source": [
    "loan_data_numeric[:,6]"
   ]
  },
  {
   "cell_type": "code",
   "execution_count": null,
   "id": "cef0b5fb-d43d-4991-b75b-fb7f81ffdd54",
   "metadata": {},
   "outputs": [],
   "source": [
    "for i in columns_dollar:\n",
    "    loan_data_numeric = np.hstack((loan_data_numeric, np.reshape(loan_data_numeric[:,i] / loan_data_numeric[:,6], (10000,1))))"
   ]
  },
  {
   "cell_type": "code",
   "execution_count": null,
   "id": "6f0f3ac5-5776-4360-bba8-bc8b71c93970",
   "metadata": {},
   "outputs": [],
   "source": [
    "loan_data_numeric"
   ]
  },
  {
   "cell_type": "code",
   "execution_count": null,
   "id": "321441ec-8a4f-4aac-bf6a-23d2fbf991b3",
   "metadata": {},
   "outputs": [],
   "source": [
    "loan_data_numeric.shape"
   ]
  },
  {
   "cell_type": "markdown",
   "id": "012f91f8-d50e-4d59-92a2-5a3ee328cb60",
   "metadata": {},
   "source": [
    "## Expanding the header"
   ]
  },
  {
   "cell_type": "code",
   "execution_count": null,
   "id": "54bf6ee5-a08d-4d27-92a1-234c78a2a731",
   "metadata": {},
   "outputs": [],
   "source": [
    "header_additional = np.array([column_name + '_EUR' for column_name in header_numeric[columns_dollar]])"
   ]
  },
  {
   "cell_type": "code",
   "execution_count": null,
   "id": "54567eba-b106-458f-90e4-498bda9006bd",
   "metadata": {},
   "outputs": [],
   "source": [
    "header_additional"
   ]
  },
  {
   "cell_type": "code",
   "execution_count": null,
   "id": "56fd9654-2a12-4499-99f1-6cd0ab51beed",
   "metadata": {},
   "outputs": [],
   "source": [
    "header_numeric = np.concatenate((header_numeric, header_additional))"
   ]
  },
  {
   "cell_type": "code",
   "execution_count": null,
   "id": "09fd7e57-154f-4dfe-8604-e1e934698473",
   "metadata": {},
   "outputs": [],
   "source": [
    "header_numeric"
   ]
  },
  {
   "cell_type": "code",
   "execution_count": null,
   "id": "ab7a0566-87e2-4276-be3c-e19722c9653f",
   "metadata": {},
   "outputs": [],
   "source": [
    "header_numeric[columns_dollar] = np.array([column_name + '_USD' for column_name in header_numeric[columns_dollar]])"
   ]
  },
  {
   "cell_type": "code",
   "execution_count": null,
   "id": "409d9032-9432-4f42-a5f3-547a387c46a8",
   "metadata": {},
   "outputs": [],
   "source": [
    "header_numeric"
   ]
  },
  {
   "cell_type": "code",
   "execution_count": null,
   "id": "be380cde-3f42-4d8d-9ced-b687c46f1b5f",
   "metadata": {},
   "outputs": [],
   "source": [
    "columns_index_order = [0,1,7,2,8,3,4,9,5,10,6]"
   ]
  },
  {
   "cell_type": "code",
   "execution_count": null,
   "id": "1c5d79be-cc6f-46d4-8455-b4a00fd43672",
   "metadata": {},
   "outputs": [],
   "source": [
    "header_numeric = header_numeric[columns_index_order]"
   ]
  },
  {
   "cell_type": "code",
   "execution_count": null,
   "id": "09e21829-9eb3-47dd-9d56-f5baeaad543e",
   "metadata": {},
   "outputs": [],
   "source": [
    "loan_data_numeric"
   ]
  },
  {
   "cell_type": "markdown",
   "id": "4b05cf0c-9f84-42cf-9aaa-2fbcab1f3624",
   "metadata": {},
   "source": [
    "## Interest Rate"
   ]
  },
  {
   "cell_type": "code",
   "execution_count": null,
   "id": "10c52805-a35d-4056-b39d-6247b44f015c",
   "metadata": {},
   "outputs": [],
   "source": [
    "header_numeric"
   ]
  },
  {
   "cell_type": "code",
   "execution_count": null,
   "id": "513982b7-9606-411a-a63e-4e8a57d00594",
   "metadata": {},
   "outputs": [],
   "source": [
    "loan_data_numeric[:,5]"
   ]
  },
  {
   "cell_type": "code",
   "execution_count": null,
   "id": "8634e578-b84b-4f0e-ab69-efbd2632a960",
   "metadata": {},
   "outputs": [],
   "source": [
    "loan_data_numeric[:,5] = loan_data_numeric[:,5]/100"
   ]
  },
  {
   "cell_type": "code",
   "execution_count": null,
   "id": "0d5664a7-afc7-44dd-b14d-6f5e93eaf6b7",
   "metadata": {},
   "outputs": [],
   "source": [
    "loan_data_numeric[:,5]"
   ]
  },
  {
   "cell_type": "markdown",
   "id": "102325f6-84b0-43d3-8747-16a1e271ab97",
   "metadata": {},
   "source": [
    "## Checkpoint 2: Numeric"
   ]
  },
  {
   "cell_type": "code",
   "execution_count": null,
   "id": "e56f6004-1f6c-45f7-9701-a5673a58591a",
   "metadata": {},
   "outputs": [],
   "source": [
    "checkpoint_numeric = checkpoint(\"Checkpoint-Numeric\", header_numeric, loan_data_numeric)"
   ]
  },
  {
   "cell_type": "code",
   "execution_count": null,
   "id": "96092178-bbb0-47a1-9bf2-78120d8d0ee4",
   "metadata": {},
   "outputs": [],
   "source": [
    "checkpoint_numeric['header'], checkpoint_numeric['data']"
   ]
  },
  {
   "cell_type": "markdown",
   "id": "87563d7a-fa1d-427c-bc0e-442f27dc17ed",
   "metadata": {},
   "source": [
    "## Creating the \"Complete\" Dataset"
   ]
  },
  {
   "cell_type": "code",
   "execution_count": null,
   "id": "6e429101-1e28-4752-be16-5fd7712fd2e3",
   "metadata": {},
   "outputs": [],
   "source": [
    "#Let's check our datasets for compatibility in terms of stacking\n",
    "loan_data_numeric.shape"
   ]
  },
  {
   "cell_type": "code",
   "execution_count": null,
   "id": "4c77c952-acbd-43ce-b736-c2b03eda7512",
   "metadata": {},
   "outputs": [],
   "source": [
    "loan_data_strings.shape"
   ]
  },
  {
   "cell_type": "markdown",
   "id": "b841327d-d476-4b73-a820-a9c05e34184f",
   "metadata": {},
   "source": [
    "## Safer option to check is to use checkpoint files"
   ]
  },
  {
   "cell_type": "code",
   "execution_count": null,
   "id": "92515083-aff8-4ad6-abe4-dca47a3d10d2",
   "metadata": {},
   "outputs": [],
   "source": [
    "checkpoint_strings['data'].shape"
   ]
  },
  {
   "cell_type": "code",
   "execution_count": null,
   "id": "b7f0c33a-8113-4b5f-9a1d-59a10f5ad897",
   "metadata": {},
   "outputs": [],
   "source": [
    "checkpoint_numeric['data'].shape"
   ]
  },
  {
   "cell_type": "code",
   "execution_count": null,
   "id": "d9818442-ef97-4eee-90dc-11b3d93797de",
   "metadata": {},
   "outputs": [],
   "source": [
    "#Datasets contain the same number of rows so they can be horizontally stacked\n",
    "np.hstack((checkpoint_numeric['data'], checkpoint_strings['data']))"
   ]
  },
  {
   "cell_type": "code",
   "execution_count": null,
   "id": "2f9bbf30-941a-4bb9-be90-4124d35946bc",
   "metadata": {},
   "outputs": [],
   "source": [
    "np.hstack((checkpoint_numeric['data'], checkpoint_strings['data'])).shape"
   ]
  },
  {
   "cell_type": "code",
   "execution_count": null,
   "id": "1b6bdd48-6688-46f8-b9b0-ea4359223cda",
   "metadata": {},
   "outputs": [],
   "source": [
    "loan_data = np.hstack((checkpoint_numeric['data'], checkpoint_strings['data']))"
   ]
  },
  {
   "cell_type": "code",
   "execution_count": null,
   "id": "4ccced8a-cc26-4c1a-81e0-54c752172dff",
   "metadata": {},
   "outputs": [],
   "source": [
    "loan_data\n"
   ]
  },
  {
   "cell_type": "code",
   "execution_count": null,
   "id": "d8af0612-da68-44a4-af94-3b61e9b68f04",
   "metadata": {},
   "outputs": [],
   "source": [
    "#Let's check for missing values \n",
    "#We expect to see O since we took care of them earlier in the practical example\n",
    "np.isnan(loan_data).sum()"
   ]
  },
  {
   "cell_type": "code",
   "execution_count": null,
   "id": "23ff47e4-8905-4e99-aa4e-e03c43504702",
   "metadata": {},
   "outputs": [],
   "source": [
    "np.concatenate((checkpoint_numeric['header'], checkpoint_strings['header']))"
   ]
  },
  {
   "cell_type": "code",
   "execution_count": null,
   "id": "ce4d6c5f-adcb-4a09-8f3f-6d09981c8134",
   "metadata": {},
   "outputs": [],
   "source": [
    "header_full_new = np.concatenate((checkpoint_numeric['header'], checkpoint_strings['header']))"
   ]
  },
  {
   "cell_type": "code",
   "execution_count": null,
   "id": "2ef18dab-adc9-4b2c-801e-0d7ec5242ab2",
   "metadata": {},
   "outputs": [],
   "source": [
    "header_full_new"
   ]
  },
  {
   "cell_type": "markdown",
   "id": "4d0899c7-3fa5-4dc2-b4ca-6796898137b4",
   "metadata": {},
   "source": [
    "## Sorting the new dataset"
   ]
  },
  {
   "cell_type": "code",
   "execution_count": null,
   "id": "25a9903b-77f6-404a-bb49-de71d6ab3ed6",
   "metadata": {},
   "outputs": [],
   "source": [
    "#Last step let's sort using the first 'id' column from loan_data\n",
    "np.sort(loan_data[:,0])"
   ]
  },
  {
   "cell_type": "code",
   "execution_count": null,
   "id": "ccf65c85-ae66-473e-8e87-9151598b7bbe",
   "metadata": {},
   "outputs": [],
   "source": [
    "#Let's use argsort to get the indices\n",
    "loan_data[np.argsort(loan_data[:,0])]"
   ]
  },
  {
   "cell_type": "code",
   "execution_count": null,
   "id": "7605d18c-f339-45b0-ad55-b204abe22d05",
   "metadata": {},
   "outputs": [],
   "source": [
    "loan_data = loan_data[np.argsort(loan_data[:,0])]"
   ]
  },
  {
   "cell_type": "code",
   "execution_count": null,
   "id": "ffbd3819-1be3-4024-81e0-3df543c447e5",
   "metadata": {},
   "outputs": [],
   "source": [
    "loan_data"
   ]
  },
  {
   "cell_type": "code",
   "execution_count": null,
   "id": "abed88bd-fe0b-4323-b68b-2ae2d31da200",
   "metadata": {},
   "outputs": [],
   "source": [
    "np.argsort(loan_data[:,0])"
   ]
  },
  {
   "cell_type": "markdown",
   "id": "1835bfa9-bb9d-45a3-a2a4-b671891748ad",
   "metadata": {},
   "source": [
    "## Storing the New Dataset"
   ]
  },
  {
   "cell_type": "code",
   "execution_count": null,
   "id": "a667bb0d-f21b-41cd-8680-c748d864c05c",
   "metadata": {},
   "outputs": [],
   "source": [
    "#Let's complete the dataset by stacking the header for the loan data using vstack\n",
    "loan_data = np.vstack((header_full_new, loan_data))"
   ]
  },
  {
   "cell_type": "code",
   "execution_count": null,
   "id": "9e649b92-1d8c-423c-b5b4-9a50ea2fefcc",
   "metadata": {},
   "outputs": [],
   "source": [
    "loan_data"
   ]
  },
  {
   "cell_type": "code",
   "execution_count": null,
   "id": "8eae87f1-e614-445a-a304-c6854d136086",
   "metadata": {},
   "outputs": [],
   "source": [
    "np.savetxt(\"loan-data-preprocessed.csv\", \n",
    "           loan_data, \n",
    "           fmt = '%s',\n",
    "           delimiter = ',')"
   ]
  },
  {
   "cell_type": "code",
   "execution_count": null,
   "id": "0da168f7-e906-4e08-ad82-2cdc199b70e0",
   "metadata": {},
   "outputs": [],
   "source": []
  }
 ],
 "metadata": {
  "kernelspec": {
   "display_name": "Python 3 (ipykernel)",
   "language": "python",
   "name": "python3"
  },
  "language_info": {
   "codemirror_mode": {
    "name": "ipython",
    "version": 3
   },
   "file_extension": ".py",
   "mimetype": "text/x-python",
   "name": "python",
   "nbconvert_exporter": "python",
   "pygments_lexer": "ipython3",
   "version": "3.11.7"
  }
 },
 "nbformat": 4,
 "nbformat_minor": 5
}
